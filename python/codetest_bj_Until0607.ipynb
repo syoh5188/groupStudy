{
  "nbformat": 4,
  "nbformat_minor": 0,
  "metadata": {
    "colab": {
      "name": "codetest_bj.ipynb",
      "provenance": [],
      "collapsed_sections": [],
      "authorship_tag": "ABX9TyMHHNR5sqxrpQEMe20A3vko"
    },
    "kernelspec": {
      "name": "python3",
      "display_name": "Python 3"
    },
    "language_info": {
      "name": "python"
    }
  },
  "cells": [
    {
      "cell_type": "markdown",
      "source": [
        "# offline6 백준 문제 풀기\n",
        "- https://www.acmicpc.net/step"
      ],
      "metadata": {
        "id": "7Z3q-uadgHhj"
      }
    },
    {
      "cell_type": "markdown",
      "source": [
        "### ~’22.06.07\n",
        "** Title ** : [블랙잭](https://www.acmicpc.net/problem/2798)\n",
        "link : https://www.acmicpc.net/problem/2798\n",
        "\n",
        "**문제**\n",
        "- 카지노에서 제일 인기 있는 게임 블랙잭의 규칙은 상당히 쉽다. 카드의 합이 21을 넘지 않는 한도 내에서, 카드의 합을 최대한 크게 만드는 게임이다. 블랙잭은 카지노마다 다양한 규정이 있다.\n",
        "\n",
        "    한국 최고의 블랙잭 고수 김정인은 새로운 블랙잭 규칙을 만들어 상근, 창영이와 게임하려고 한다.\n",
        "\n",
        "    김정인 버전의 블랙잭에서 각 카드에는 양의 정수가 쓰여 있다. 그 다음, 딜러는 N장의 카드를 모두 숫자가 보이도록 바닥에 놓는다. 그런 후에 딜러는 숫자 M을 크게 외친다.\n",
        "\n",
        "    이제 플레이어는 제한된 시간 안에 N장의 카드 중에서 3장의 카드를 골라야 한다. 블랙잭 변형 게임이기 때문에, 플레이어가 고른 카드의 합은 M을 넘지 않으면서 M과 최대한 가깝게 만들어야 한다.\n",
        "\n",
        "    N장의 카드에 써져 있는 숫자가 주어졌을 때, M을 넘지 않으면서 M에 최대한 가까운 카드 3장의 합을 구해 출력하시오.\n",
        "\n",
        "**입력**\n",
        "- 첫째 줄에 카드의 개수 N(3 ≤ N ≤ 100)과 M(10 ≤ M ≤ 300,000)이 주어진다. 둘째 줄에는 카드에 쓰여 있는 수가 주어지며, 이 값은 100,000을 넘지 않는 양의 정수이다.\n",
        "\n",
        "    합이 M을 넘지 않는 카드 3장을 찾을 수 있는 경우만 입력으로 주어진다.\n",
        "\n",
        "**출력**\n",
        "- 첫째 줄에 M을 넘지 않으면서 M에 최대한 가까운 카드 3장의 합을 출력한다."
      ],
      "metadata": {
        "id": "hnE_OTO7FMkG"
      }
    },
    {
      "cell_type": "markdown",
      "source": [
        "** Review **\n",
        "- 말하자면, 첫 번째 input 인 N 은 카드의 갯수\n",
        "- 두 번째 input 인 M은 플레이어가 만들 혹은 도달해야 할 최대한 가까운 숫자로서 N에서 뽑은 카드에서 3 장을 뽑아, 그 3장의 합으로 만들어야 한다. "
      ],
      "metadata": {
        "id": "RzK19OM0GWdx"
      }
    },
    {
      "cell_type": "code",
      "source": [
        "n, m = map(int, input().split())\n",
        "numlist = list(map(int, input().split()))\n",
        "ttl, result = 0, 0\n",
        "\n",
        "for i in range (len(numlist)):\n",
        "    for j in range(i+1, len(numlist)):\n",
        "        for k in range (j+1, len(numlist)):\n",
        "            ttl = numlist[i]+numlist[j]+numlist[k]\n",
        "            if ttl <=m:\n",
        "                result = max(result, ttl)\n",
        "print(result)"
      ],
      "metadata": {
        "colab": {
          "base_uri": "https://localhost:8080/"
        },
        "id": "ETcK6-fFFMMS",
        "outputId": "1aaae697-39b3-4e1d-8f17-5b9dea4e5ef4"
      },
      "execution_count": 25,
      "outputs": [
        {
          "output_type": "stream",
          "name": "stdout",
          "text": [
            "10 500\n",
            "93 181 245 214 315 36 185 138 216 295\n",
            "497\n"
          ]
        }
      ]
    },
    {
      "cell_type": "markdown",
      "source": [
        "- 2번 만에 성공.\n",
        "- 3 장의 카드라서 3중 for 문을 돌렸고, 같은 카드를 꺼낼 수 없으므로 \n",
        "for 문에서 i+1, j+1 등으로 넘겨서 처리\n"
      ],
      "metadata": {
        "id": "BnH0meavMtMW"
      }
    },
    {
      "cell_type": "code",
      "execution_count": null,
      "metadata": {
        "id": "UTVSvPsYgG5y"
      },
      "outputs": [],
      "source": [
        ""
      ]
    }
  ]
}