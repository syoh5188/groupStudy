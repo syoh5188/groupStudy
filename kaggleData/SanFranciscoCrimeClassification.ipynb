{
  "nbformat": 4,
  "nbformat_minor": 0,
  "metadata": {
    "colab": {
      "name": "SanFranciscoCrimeClassification.ipynb",
      "provenance": [],
      "collapsed_sections": [
        "YWpqENrYwhJV",
        "75v8RL-RxJw5",
        "9YzyG-TbxXqh",
        "fImLofKkxZ6e",
        "e8fmR9zpxb9M",
        "9v4DEFemz45w"
      ],
      "authorship_tag": "ABX9TyN2mHsSkp8a7LUqCmR19egW",
      "include_colab_link": true
    },
    "kernelspec": {
      "name": "python3",
      "display_name": "Python 3"
    },
    "language_info": {
      "name": "python"
    }
  },
  "cells": [
    {
      "cell_type": "markdown",
      "metadata": {
        "id": "view-in-github",
        "colab_type": "text"
      },
      "source": [
        "<a href=\"https://colab.research.google.com/github/syoh5188/groupStudy/blob/main/SanFranciscoCrimeClassification.ipynb\" target=\"_parent\"><img src=\"https://colab.research.google.com/assets/colab-badge.svg\" alt=\"Open In Colab\"/></a>"
      ]
    },
    {
      "cell_type": "code",
      "execution_count": null,
      "metadata": {
        "id": "_2367ZjKUASS",
        "colab": {
          "base_uri": "https://localhost:8080/"
        },
        "outputId": "c80872ae-0723-44df-8bfd-c47f0d1462eb"
      },
      "outputs": [
        {
          "output_type": "stream",
          "name": "stdout",
          "text": [
            "Mounted at /content/drive\n"
          ]
        }
      ],
      "source": [
        "from google.colab import drive\n",
        "drive.mount('/content/drive')"
      ]
    },
    {
      "cell_type": "markdown",
      "source": [
        "# San Francisco Crime Classification\n"
      ],
      "metadata": {
        "id": "ilN04hEXwpeZ"
      }
    },
    {
      "cell_type": "markdown",
      "source": [
        "## 04-03-01. 데이터전처리 실습\n",
        "https://wikidocs.net/86299"
      ],
      "metadata": {
        "id": "KQiv3cGrkJ6F"
      }
    },
    {
      "cell_type": "markdown",
      "source": [
        "###대회 설명\n",
        "\n",
        "URL: https://www.kaggle.com/c/sf-crime (대회바로가기)\n",
        "\n",
        "설명\n",
        "\n",
        "1934년부터 1963년까지 샌프란시스코의 알카트라즈섬에 악명 높은 범죄자들을 수용 한 것으로 유명했습니다. 이 대회는 약 12년 동안 샌프란시스코의 모든 지역에서 발생한 범죄 보고서를 제공합니다. 시간과 장소가 주어지면 발생한 범죄의 유형(카테고리)을 예측하여 제출합니다.\n",
        "\n",
        "\n",
        "평가방법\n",
        "\n",
        "범죄 유형별 범죄 발생 가능성을 확률로 계산하여 제출하면, multi class logarithmic loss를 사용하여 정확도를 측정합니다."
      ],
      "metadata": {
        "id": "NPvkHe5RxGdF"
      }
    },
    {
      "cell_type": "markdown",
      "source": [
        "### 데이터\n",
        "\n",
        "본 대회는 샌프란시스코 오픈 데이터 SF OpenData에서 제공하는 범죄관련 데이터를 사용합니다.\n",
        "\n",
        "* 2003년 1월 1일 ~ 2015년 5월 13일 범죄데이터\n",
        "* Training Set: 1,3,5,7 주\n",
        "* Test Set: 2,4,6,8 주\n",
        "\n",
        "\n",
        "* Dates - 범죄 사건 발생 날짜 및 시간 정보\n",
        "* Category - 범죄 사건 카테고리(이 값이 예측할 목표변수)\n",
        "* Descript - 범죄 사건에 대한 자세한 설명\n",
        "* DayOfWeek - 요일\n",
        "* PdDistrict - 경찰서 구역 이름\n",
        "* Resolution - 범죄 사건이 해결 된 방법\n",
        "* Address - 범죄 사건의 대략적인 주소\n",
        "* X - 경도\n",
        "* Y - 위도"
      ],
      "metadata": {
        "id": "BC2kMGV6nYMi"
      }
    },
    {
      "cell_type": "code",
      "source": [
        "# 필요모듈 import\n",
        "\n",
        "import numpy as np\n",
        "import pandas as pd\n",
        "import matplotlib.pyplot as plt\n",
        "import seaborn as sns"
      ],
      "metadata": {
        "id": "-FEBXDK_t9LA"
      },
      "execution_count": null,
      "outputs": []
    },
    {
      "cell_type": "markdown",
      "source": [
        "## 04-03-01. 데이터전처리 실습\n",
        "https://wikidocs.net/86627"
      ],
      "metadata": {
        "id": "ucjo_YaNwI59"
      }
    },
    {
      "cell_type": "markdown",
      "source": [
        "### 데이터 훑어보기"
      ],
      "metadata": {
        "id": "SWP9AVTswOye"
      }
    },
    {
      "cell_type": "markdown",
      "source": [
        "#### 01. csv 파일을 데이터프레임으로 읽기"
      ],
      "metadata": {
        "id": "0Qi6r7JvwQkg"
      }
    },
    {
      "cell_type": "code",
      "source": [
        "san = pd.read_csv('/content/drive/MyDrive/스터디/group_offline6/san_train.csv')\n",
        "san"
      ],
      "metadata": {
        "colab": {
          "base_uri": "https://localhost:8080/",
          "height": 832
        },
        "id": "CAcF-zCxt0W6",
        "outputId": "510bc587-7f88-4320-a521-f5b5b03899f1"
      },
      "execution_count": null,
      "outputs": [
        {
          "output_type": "execute_result",
          "data": {
            "text/plain": [
              "                      Dates                Category  \\\n",
              "0       2015-05-13 23:53:00                WARRANTS   \n",
              "1       2015-05-13 23:53:00          OTHER OFFENSES   \n",
              "2       2015-05-13 23:33:00          OTHER OFFENSES   \n",
              "3       2015-05-13 23:30:00           LARCENY/THEFT   \n",
              "4       2015-05-13 23:30:00           LARCENY/THEFT   \n",
              "...                     ...                     ...   \n",
              "878044  2003-01-06 00:15:00                 ROBBERY   \n",
              "878045  2003-01-06 00:01:00           LARCENY/THEFT   \n",
              "878046  2003-01-06 00:01:00           LARCENY/THEFT   \n",
              "878047  2003-01-06 00:01:00               VANDALISM   \n",
              "878048  2003-01-06 00:01:00  FORGERY/COUNTERFEITING   \n",
              "\n",
              "                                         Descript  DayOfWeek PdDistrict  \\\n",
              "0                                  WARRANT ARREST  Wednesday   NORTHERN   \n",
              "1                        TRAFFIC VIOLATION ARREST  Wednesday   NORTHERN   \n",
              "2                        TRAFFIC VIOLATION ARREST  Wednesday   NORTHERN   \n",
              "3                    GRAND THEFT FROM LOCKED AUTO  Wednesday   NORTHERN   \n",
              "4                    GRAND THEFT FROM LOCKED AUTO  Wednesday       PARK   \n",
              "...                                           ...        ...        ...   \n",
              "878044           ROBBERY ON THE STREET WITH A GUN     Monday    TARAVAL   \n",
              "878045               GRAND THEFT FROM LOCKED AUTO     Monday  INGLESIDE   \n",
              "878046               GRAND THEFT FROM LOCKED AUTO     Monday   SOUTHERN   \n",
              "878047  MALICIOUS MISCHIEF, VANDALISM OF VEHICLES     Monday   SOUTHERN   \n",
              "878048                   CHECKS, FORGERY (FELONY)     Monday    BAYVIEW   \n",
              "\n",
              "            Resolution                     Address           X          Y  \n",
              "0       ARREST, BOOKED          OAK ST / LAGUNA ST -122.425892  37.774599  \n",
              "1       ARREST, BOOKED          OAK ST / LAGUNA ST -122.425892  37.774599  \n",
              "2       ARREST, BOOKED   VANNESS AV / GREENWICH ST -122.424363  37.800414  \n",
              "3                 NONE    1500 Block of LOMBARD ST -122.426995  37.800873  \n",
              "4                 NONE   100 Block of BRODERICK ST -122.438738  37.771541  \n",
              "...                ...                         ...         ...        ...  \n",
              "878044            NONE  FARALLONES ST / CAPITOL AV -122.459033  37.714056  \n",
              "878045            NONE        600 Block of EDNA ST -122.447364  37.731948  \n",
              "878046            NONE          5TH ST / FOLSOM ST -122.403390  37.780266  \n",
              "878047            NONE        TOWNSEND ST / 2ND ST -122.390531  37.780607  \n",
              "878048            NONE    1800 Block of NEWCOMB AV -122.394926  37.738212  \n",
              "\n",
              "[878049 rows x 9 columns]"
            ],
            "text/html": [
              "\n",
              "  <div id=\"df-9261d78d-636a-4e71-b630-7467430f8c6a\">\n",
              "    <div class=\"colab-df-container\">\n",
              "      <div>\n",
              "<style scoped>\n",
              "    .dataframe tbody tr th:only-of-type {\n",
              "        vertical-align: middle;\n",
              "    }\n",
              "\n",
              "    .dataframe tbody tr th {\n",
              "        vertical-align: top;\n",
              "    }\n",
              "\n",
              "    .dataframe thead th {\n",
              "        text-align: right;\n",
              "    }\n",
              "</style>\n",
              "<table border=\"1\" class=\"dataframe\">\n",
              "  <thead>\n",
              "    <tr style=\"text-align: right;\">\n",
              "      <th></th>\n",
              "      <th>Dates</th>\n",
              "      <th>Category</th>\n",
              "      <th>Descript</th>\n",
              "      <th>DayOfWeek</th>\n",
              "      <th>PdDistrict</th>\n",
              "      <th>Resolution</th>\n",
              "      <th>Address</th>\n",
              "      <th>X</th>\n",
              "      <th>Y</th>\n",
              "    </tr>\n",
              "  </thead>\n",
              "  <tbody>\n",
              "    <tr>\n",
              "      <th>0</th>\n",
              "      <td>2015-05-13 23:53:00</td>\n",
              "      <td>WARRANTS</td>\n",
              "      <td>WARRANT ARREST</td>\n",
              "      <td>Wednesday</td>\n",
              "      <td>NORTHERN</td>\n",
              "      <td>ARREST, BOOKED</td>\n",
              "      <td>OAK ST / LAGUNA ST</td>\n",
              "      <td>-122.425892</td>\n",
              "      <td>37.774599</td>\n",
              "    </tr>\n",
              "    <tr>\n",
              "      <th>1</th>\n",
              "      <td>2015-05-13 23:53:00</td>\n",
              "      <td>OTHER OFFENSES</td>\n",
              "      <td>TRAFFIC VIOLATION ARREST</td>\n",
              "      <td>Wednesday</td>\n",
              "      <td>NORTHERN</td>\n",
              "      <td>ARREST, BOOKED</td>\n",
              "      <td>OAK ST / LAGUNA ST</td>\n",
              "      <td>-122.425892</td>\n",
              "      <td>37.774599</td>\n",
              "    </tr>\n",
              "    <tr>\n",
              "      <th>2</th>\n",
              "      <td>2015-05-13 23:33:00</td>\n",
              "      <td>OTHER OFFENSES</td>\n",
              "      <td>TRAFFIC VIOLATION ARREST</td>\n",
              "      <td>Wednesday</td>\n",
              "      <td>NORTHERN</td>\n",
              "      <td>ARREST, BOOKED</td>\n",
              "      <td>VANNESS AV / GREENWICH ST</td>\n",
              "      <td>-122.424363</td>\n",
              "      <td>37.800414</td>\n",
              "    </tr>\n",
              "    <tr>\n",
              "      <th>3</th>\n",
              "      <td>2015-05-13 23:30:00</td>\n",
              "      <td>LARCENY/THEFT</td>\n",
              "      <td>GRAND THEFT FROM LOCKED AUTO</td>\n",
              "      <td>Wednesday</td>\n",
              "      <td>NORTHERN</td>\n",
              "      <td>NONE</td>\n",
              "      <td>1500 Block of LOMBARD ST</td>\n",
              "      <td>-122.426995</td>\n",
              "      <td>37.800873</td>\n",
              "    </tr>\n",
              "    <tr>\n",
              "      <th>4</th>\n",
              "      <td>2015-05-13 23:30:00</td>\n",
              "      <td>LARCENY/THEFT</td>\n",
              "      <td>GRAND THEFT FROM LOCKED AUTO</td>\n",
              "      <td>Wednesday</td>\n",
              "      <td>PARK</td>\n",
              "      <td>NONE</td>\n",
              "      <td>100 Block of BRODERICK ST</td>\n",
              "      <td>-122.438738</td>\n",
              "      <td>37.771541</td>\n",
              "    </tr>\n",
              "    <tr>\n",
              "      <th>...</th>\n",
              "      <td>...</td>\n",
              "      <td>...</td>\n",
              "      <td>...</td>\n",
              "      <td>...</td>\n",
              "      <td>...</td>\n",
              "      <td>...</td>\n",
              "      <td>...</td>\n",
              "      <td>...</td>\n",
              "      <td>...</td>\n",
              "    </tr>\n",
              "    <tr>\n",
              "      <th>878044</th>\n",
              "      <td>2003-01-06 00:15:00</td>\n",
              "      <td>ROBBERY</td>\n",
              "      <td>ROBBERY ON THE STREET WITH A GUN</td>\n",
              "      <td>Monday</td>\n",
              "      <td>TARAVAL</td>\n",
              "      <td>NONE</td>\n",
              "      <td>FARALLONES ST / CAPITOL AV</td>\n",
              "      <td>-122.459033</td>\n",
              "      <td>37.714056</td>\n",
              "    </tr>\n",
              "    <tr>\n",
              "      <th>878045</th>\n",
              "      <td>2003-01-06 00:01:00</td>\n",
              "      <td>LARCENY/THEFT</td>\n",
              "      <td>GRAND THEFT FROM LOCKED AUTO</td>\n",
              "      <td>Monday</td>\n",
              "      <td>INGLESIDE</td>\n",
              "      <td>NONE</td>\n",
              "      <td>600 Block of EDNA ST</td>\n",
              "      <td>-122.447364</td>\n",
              "      <td>37.731948</td>\n",
              "    </tr>\n",
              "    <tr>\n",
              "      <th>878046</th>\n",
              "      <td>2003-01-06 00:01:00</td>\n",
              "      <td>LARCENY/THEFT</td>\n",
              "      <td>GRAND THEFT FROM LOCKED AUTO</td>\n",
              "      <td>Monday</td>\n",
              "      <td>SOUTHERN</td>\n",
              "      <td>NONE</td>\n",
              "      <td>5TH ST / FOLSOM ST</td>\n",
              "      <td>-122.403390</td>\n",
              "      <td>37.780266</td>\n",
              "    </tr>\n",
              "    <tr>\n",
              "      <th>878047</th>\n",
              "      <td>2003-01-06 00:01:00</td>\n",
              "      <td>VANDALISM</td>\n",
              "      <td>MALICIOUS MISCHIEF, VANDALISM OF VEHICLES</td>\n",
              "      <td>Monday</td>\n",
              "      <td>SOUTHERN</td>\n",
              "      <td>NONE</td>\n",
              "      <td>TOWNSEND ST / 2ND ST</td>\n",
              "      <td>-122.390531</td>\n",
              "      <td>37.780607</td>\n",
              "    </tr>\n",
              "    <tr>\n",
              "      <th>878048</th>\n",
              "      <td>2003-01-06 00:01:00</td>\n",
              "      <td>FORGERY/COUNTERFEITING</td>\n",
              "      <td>CHECKS, FORGERY (FELONY)</td>\n",
              "      <td>Monday</td>\n",
              "      <td>BAYVIEW</td>\n",
              "      <td>NONE</td>\n",
              "      <td>1800 Block of NEWCOMB AV</td>\n",
              "      <td>-122.394926</td>\n",
              "      <td>37.738212</td>\n",
              "    </tr>\n",
              "  </tbody>\n",
              "</table>\n",
              "<p>878049 rows × 9 columns</p>\n",
              "</div>\n",
              "      <button class=\"colab-df-convert\" onclick=\"convertToInteractive('df-9261d78d-636a-4e71-b630-7467430f8c6a')\"\n",
              "              title=\"Convert this dataframe to an interactive table.\"\n",
              "              style=\"display:none;\">\n",
              "        \n",
              "  <svg xmlns=\"http://www.w3.org/2000/svg\" height=\"24px\"viewBox=\"0 0 24 24\"\n",
              "       width=\"24px\">\n",
              "    <path d=\"M0 0h24v24H0V0z\" fill=\"none\"/>\n",
              "    <path d=\"M18.56 5.44l.94 2.06.94-2.06 2.06-.94-2.06-.94-.94-2.06-.94 2.06-2.06.94zm-11 1L8.5 8.5l.94-2.06 2.06-.94-2.06-.94L8.5 2.5l-.94 2.06-2.06.94zm10 10l.94 2.06.94-2.06 2.06-.94-2.06-.94-.94-2.06-.94 2.06-2.06.94z\"/><path d=\"M17.41 7.96l-1.37-1.37c-.4-.4-.92-.59-1.43-.59-.52 0-1.04.2-1.43.59L10.3 9.45l-7.72 7.72c-.78.78-.78 2.05 0 2.83L4 21.41c.39.39.9.59 1.41.59.51 0 1.02-.2 1.41-.59l7.78-7.78 2.81-2.81c.8-.78.8-2.07 0-2.86zM5.41 20L4 18.59l7.72-7.72 1.47 1.35L5.41 20z\"/>\n",
              "  </svg>\n",
              "      </button>\n",
              "      \n",
              "  <style>\n",
              "    .colab-df-container {\n",
              "      display:flex;\n",
              "      flex-wrap:wrap;\n",
              "      gap: 12px;\n",
              "    }\n",
              "\n",
              "    .colab-df-convert {\n",
              "      background-color: #E8F0FE;\n",
              "      border: none;\n",
              "      border-radius: 50%;\n",
              "      cursor: pointer;\n",
              "      display: none;\n",
              "      fill: #1967D2;\n",
              "      height: 32px;\n",
              "      padding: 0 0 0 0;\n",
              "      width: 32px;\n",
              "    }\n",
              "\n",
              "    .colab-df-convert:hover {\n",
              "      background-color: #E2EBFA;\n",
              "      box-shadow: 0px 1px 2px rgba(60, 64, 67, 0.3), 0px 1px 3px 1px rgba(60, 64, 67, 0.15);\n",
              "      fill: #174EA6;\n",
              "    }\n",
              "\n",
              "    [theme=dark] .colab-df-convert {\n",
              "      background-color: #3B4455;\n",
              "      fill: #D2E3FC;\n",
              "    }\n",
              "\n",
              "    [theme=dark] .colab-df-convert:hover {\n",
              "      background-color: #434B5C;\n",
              "      box-shadow: 0px 1px 3px 1px rgba(0, 0, 0, 0.15);\n",
              "      filter: drop-shadow(0px 1px 2px rgba(0, 0, 0, 0.3));\n",
              "      fill: #FFFFFF;\n",
              "    }\n",
              "  </style>\n",
              "\n",
              "      <script>\n",
              "        const buttonEl =\n",
              "          document.querySelector('#df-9261d78d-636a-4e71-b630-7467430f8c6a button.colab-df-convert');\n",
              "        buttonEl.style.display =\n",
              "          google.colab.kernel.accessAllowed ? 'block' : 'none';\n",
              "\n",
              "        async function convertToInteractive(key) {\n",
              "          const element = document.querySelector('#df-9261d78d-636a-4e71-b630-7467430f8c6a');\n",
              "          const dataTable =\n",
              "            await google.colab.kernel.invokeFunction('convertToInteractive',\n",
              "                                                     [key], {});\n",
              "          if (!dataTable) return;\n",
              "\n",
              "          const docLinkHtml = 'Like what you see? Visit the ' +\n",
              "            '<a target=\"_blank\" href=https://colab.research.google.com/notebooks/data_table.ipynb>data table notebook</a>'\n",
              "            + ' to learn more about interactive tables.';\n",
              "          element.innerHTML = '';\n",
              "          dataTable['output_type'] = 'display_data';\n",
              "          await google.colab.output.renderOutput(dataTable, element);\n",
              "          const docLink = document.createElement('div');\n",
              "          docLink.innerHTML = docLinkHtml;\n",
              "          element.appendChild(docLink);\n",
              "        }\n",
              "      </script>\n",
              "    </div>\n",
              "  </div>\n",
              "  "
            ]
          },
          "metadata": {},
          "execution_count": 3
        }
      ]
    },
    {
      "cell_type": "markdown",
      "source": [
        "#### 02. 학습 데이터 셋의 상위 5개 항목 출력"
      ],
      "metadata": {
        "id": "EPCjLrBNwaMj"
      }
    },
    {
      "cell_type": "code",
      "source": [
        "san.head()"
      ],
      "metadata": {
        "colab": {
          "base_uri": "https://localhost:8080/",
          "height": 337
        },
        "id": "fsbhjN2kwcax",
        "outputId": "d62aecc0-28b9-4cda-a400-24a9a2021ea4"
      },
      "execution_count": null,
      "outputs": [
        {
          "output_type": "execute_result",
          "data": {
            "text/plain": [
              "                 Dates        Category                      Descript  \\\n",
              "0  2015-05-13 23:53:00        WARRANTS                WARRANT ARREST   \n",
              "1  2015-05-13 23:53:00  OTHER OFFENSES      TRAFFIC VIOLATION ARREST   \n",
              "2  2015-05-13 23:33:00  OTHER OFFENSES      TRAFFIC VIOLATION ARREST   \n",
              "3  2015-05-13 23:30:00   LARCENY/THEFT  GRAND THEFT FROM LOCKED AUTO   \n",
              "4  2015-05-13 23:30:00   LARCENY/THEFT  GRAND THEFT FROM LOCKED AUTO   \n",
              "\n",
              "   DayOfWeek PdDistrict      Resolution                    Address  \\\n",
              "0  Wednesday   NORTHERN  ARREST, BOOKED         OAK ST / LAGUNA ST   \n",
              "1  Wednesday   NORTHERN  ARREST, BOOKED         OAK ST / LAGUNA ST   \n",
              "2  Wednesday   NORTHERN  ARREST, BOOKED  VANNESS AV / GREENWICH ST   \n",
              "3  Wednesday   NORTHERN            NONE   1500 Block of LOMBARD ST   \n",
              "4  Wednesday       PARK            NONE  100 Block of BRODERICK ST   \n",
              "\n",
              "            X          Y  \n",
              "0 -122.425892  37.774599  \n",
              "1 -122.425892  37.774599  \n",
              "2 -122.424363  37.800414  \n",
              "3 -122.426995  37.800873  \n",
              "4 -122.438738  37.771541  "
            ],
            "text/html": [
              "\n",
              "  <div id=\"df-3ea91df2-60f9-4b3b-a683-18c852987341\">\n",
              "    <div class=\"colab-df-container\">\n",
              "      <div>\n",
              "<style scoped>\n",
              "    .dataframe tbody tr th:only-of-type {\n",
              "        vertical-align: middle;\n",
              "    }\n",
              "\n",
              "    .dataframe tbody tr th {\n",
              "        vertical-align: top;\n",
              "    }\n",
              "\n",
              "    .dataframe thead th {\n",
              "        text-align: right;\n",
              "    }\n",
              "</style>\n",
              "<table border=\"1\" class=\"dataframe\">\n",
              "  <thead>\n",
              "    <tr style=\"text-align: right;\">\n",
              "      <th></th>\n",
              "      <th>Dates</th>\n",
              "      <th>Category</th>\n",
              "      <th>Descript</th>\n",
              "      <th>DayOfWeek</th>\n",
              "      <th>PdDistrict</th>\n",
              "      <th>Resolution</th>\n",
              "      <th>Address</th>\n",
              "      <th>X</th>\n",
              "      <th>Y</th>\n",
              "    </tr>\n",
              "  </thead>\n",
              "  <tbody>\n",
              "    <tr>\n",
              "      <th>0</th>\n",
              "      <td>2015-05-13 23:53:00</td>\n",
              "      <td>WARRANTS</td>\n",
              "      <td>WARRANT ARREST</td>\n",
              "      <td>Wednesday</td>\n",
              "      <td>NORTHERN</td>\n",
              "      <td>ARREST, BOOKED</td>\n",
              "      <td>OAK ST / LAGUNA ST</td>\n",
              "      <td>-122.425892</td>\n",
              "      <td>37.774599</td>\n",
              "    </tr>\n",
              "    <tr>\n",
              "      <th>1</th>\n",
              "      <td>2015-05-13 23:53:00</td>\n",
              "      <td>OTHER OFFENSES</td>\n",
              "      <td>TRAFFIC VIOLATION ARREST</td>\n",
              "      <td>Wednesday</td>\n",
              "      <td>NORTHERN</td>\n",
              "      <td>ARREST, BOOKED</td>\n",
              "      <td>OAK ST / LAGUNA ST</td>\n",
              "      <td>-122.425892</td>\n",
              "      <td>37.774599</td>\n",
              "    </tr>\n",
              "    <tr>\n",
              "      <th>2</th>\n",
              "      <td>2015-05-13 23:33:00</td>\n",
              "      <td>OTHER OFFENSES</td>\n",
              "      <td>TRAFFIC VIOLATION ARREST</td>\n",
              "      <td>Wednesday</td>\n",
              "      <td>NORTHERN</td>\n",
              "      <td>ARREST, BOOKED</td>\n",
              "      <td>VANNESS AV / GREENWICH ST</td>\n",
              "      <td>-122.424363</td>\n",
              "      <td>37.800414</td>\n",
              "    </tr>\n",
              "    <tr>\n",
              "      <th>3</th>\n",
              "      <td>2015-05-13 23:30:00</td>\n",
              "      <td>LARCENY/THEFT</td>\n",
              "      <td>GRAND THEFT FROM LOCKED AUTO</td>\n",
              "      <td>Wednesday</td>\n",
              "      <td>NORTHERN</td>\n",
              "      <td>NONE</td>\n",
              "      <td>1500 Block of LOMBARD ST</td>\n",
              "      <td>-122.426995</td>\n",
              "      <td>37.800873</td>\n",
              "    </tr>\n",
              "    <tr>\n",
              "      <th>4</th>\n",
              "      <td>2015-05-13 23:30:00</td>\n",
              "      <td>LARCENY/THEFT</td>\n",
              "      <td>GRAND THEFT FROM LOCKED AUTO</td>\n",
              "      <td>Wednesday</td>\n",
              "      <td>PARK</td>\n",
              "      <td>NONE</td>\n",
              "      <td>100 Block of BRODERICK ST</td>\n",
              "      <td>-122.438738</td>\n",
              "      <td>37.771541</td>\n",
              "    </tr>\n",
              "  </tbody>\n",
              "</table>\n",
              "</div>\n",
              "      <button class=\"colab-df-convert\" onclick=\"convertToInteractive('df-3ea91df2-60f9-4b3b-a683-18c852987341')\"\n",
              "              title=\"Convert this dataframe to an interactive table.\"\n",
              "              style=\"display:none;\">\n",
              "        \n",
              "  <svg xmlns=\"http://www.w3.org/2000/svg\" height=\"24px\"viewBox=\"0 0 24 24\"\n",
              "       width=\"24px\">\n",
              "    <path d=\"M0 0h24v24H0V0z\" fill=\"none\"/>\n",
              "    <path d=\"M18.56 5.44l.94 2.06.94-2.06 2.06-.94-2.06-.94-.94-2.06-.94 2.06-2.06.94zm-11 1L8.5 8.5l.94-2.06 2.06-.94-2.06-.94L8.5 2.5l-.94 2.06-2.06.94zm10 10l.94 2.06.94-2.06 2.06-.94-2.06-.94-.94-2.06-.94 2.06-2.06.94z\"/><path d=\"M17.41 7.96l-1.37-1.37c-.4-.4-.92-.59-1.43-.59-.52 0-1.04.2-1.43.59L10.3 9.45l-7.72 7.72c-.78.78-.78 2.05 0 2.83L4 21.41c.39.39.9.59 1.41.59.51 0 1.02-.2 1.41-.59l7.78-7.78 2.81-2.81c.8-.78.8-2.07 0-2.86zM5.41 20L4 18.59l7.72-7.72 1.47 1.35L5.41 20z\"/>\n",
              "  </svg>\n",
              "      </button>\n",
              "      \n",
              "  <style>\n",
              "    .colab-df-container {\n",
              "      display:flex;\n",
              "      flex-wrap:wrap;\n",
              "      gap: 12px;\n",
              "    }\n",
              "\n",
              "    .colab-df-convert {\n",
              "      background-color: #E8F0FE;\n",
              "      border: none;\n",
              "      border-radius: 50%;\n",
              "      cursor: pointer;\n",
              "      display: none;\n",
              "      fill: #1967D2;\n",
              "      height: 32px;\n",
              "      padding: 0 0 0 0;\n",
              "      width: 32px;\n",
              "    }\n",
              "\n",
              "    .colab-df-convert:hover {\n",
              "      background-color: #E2EBFA;\n",
              "      box-shadow: 0px 1px 2px rgba(60, 64, 67, 0.3), 0px 1px 3px 1px rgba(60, 64, 67, 0.15);\n",
              "      fill: #174EA6;\n",
              "    }\n",
              "\n",
              "    [theme=dark] .colab-df-convert {\n",
              "      background-color: #3B4455;\n",
              "      fill: #D2E3FC;\n",
              "    }\n",
              "\n",
              "    [theme=dark] .colab-df-convert:hover {\n",
              "      background-color: #434B5C;\n",
              "      box-shadow: 0px 1px 3px 1px rgba(0, 0, 0, 0.15);\n",
              "      filter: drop-shadow(0px 1px 2px rgba(0, 0, 0, 0.3));\n",
              "      fill: #FFFFFF;\n",
              "    }\n",
              "  </style>\n",
              "\n",
              "      <script>\n",
              "        const buttonEl =\n",
              "          document.querySelector('#df-3ea91df2-60f9-4b3b-a683-18c852987341 button.colab-df-convert');\n",
              "        buttonEl.style.display =\n",
              "          google.colab.kernel.accessAllowed ? 'block' : 'none';\n",
              "\n",
              "        async function convertToInteractive(key) {\n",
              "          const element = document.querySelector('#df-3ea91df2-60f9-4b3b-a683-18c852987341');\n",
              "          const dataTable =\n",
              "            await google.colab.kernel.invokeFunction('convertToInteractive',\n",
              "                                                     [key], {});\n",
              "          if (!dataTable) return;\n",
              "\n",
              "          const docLinkHtml = 'Like what you see? Visit the ' +\n",
              "            '<a target=\"_blank\" href=https://colab.research.google.com/notebooks/data_table.ipynb>data table notebook</a>'\n",
              "            + ' to learn more about interactive tables.';\n",
              "          element.innerHTML = '';\n",
              "          dataTable['output_type'] = 'display_data';\n",
              "          await google.colab.output.renderOutput(dataTable, element);\n",
              "          const docLink = document.createElement('div');\n",
              "          docLink.innerHTML = docLinkHtml;\n",
              "          element.appendChild(docLink);\n",
              "        }\n",
              "      </script>\n",
              "    </div>\n",
              "  </div>\n",
              "  "
            ]
          },
          "metadata": {},
          "execution_count": 4
        }
      ]
    },
    {
      "cell_type": "markdown",
      "source": [
        "#### 03. 학습 데이터 셋의 각 필드 데이터 분포(평균, 최소값, 최대값 등)를 살펴보기"
      ],
      "metadata": {
        "id": "2NA7z8YPwcsb"
      }
    },
    {
      "cell_type": "code",
      "source": [
        "san.describe()"
      ],
      "metadata": {
        "colab": {
          "base_uri": "https://localhost:8080/",
          "height": 300
        },
        "id": "nAXPh5lGwej4",
        "outputId": "8800aa7c-52af-44c8-86d6-18e645ab974f"
      },
      "execution_count": null,
      "outputs": [
        {
          "output_type": "execute_result",
          "data": {
            "text/plain": [
              "                   X              Y\n",
              "count  878049.000000  878049.000000\n",
              "mean     -122.422616      37.771020\n",
              "std         0.030354       0.456893\n",
              "min      -122.513642      37.707879\n",
              "25%      -122.432952      37.752427\n",
              "50%      -122.416420      37.775421\n",
              "75%      -122.406959      37.784369\n",
              "max      -120.500000      90.000000"
            ],
            "text/html": [
              "\n",
              "  <div id=\"df-af2cdf6b-e0f0-4517-9a32-78c709362536\">\n",
              "    <div class=\"colab-df-container\">\n",
              "      <div>\n",
              "<style scoped>\n",
              "    .dataframe tbody tr th:only-of-type {\n",
              "        vertical-align: middle;\n",
              "    }\n",
              "\n",
              "    .dataframe tbody tr th {\n",
              "        vertical-align: top;\n",
              "    }\n",
              "\n",
              "    .dataframe thead th {\n",
              "        text-align: right;\n",
              "    }\n",
              "</style>\n",
              "<table border=\"1\" class=\"dataframe\">\n",
              "  <thead>\n",
              "    <tr style=\"text-align: right;\">\n",
              "      <th></th>\n",
              "      <th>X</th>\n",
              "      <th>Y</th>\n",
              "    </tr>\n",
              "  </thead>\n",
              "  <tbody>\n",
              "    <tr>\n",
              "      <th>count</th>\n",
              "      <td>878049.000000</td>\n",
              "      <td>878049.000000</td>\n",
              "    </tr>\n",
              "    <tr>\n",
              "      <th>mean</th>\n",
              "      <td>-122.422616</td>\n",
              "      <td>37.771020</td>\n",
              "    </tr>\n",
              "    <tr>\n",
              "      <th>std</th>\n",
              "      <td>0.030354</td>\n",
              "      <td>0.456893</td>\n",
              "    </tr>\n",
              "    <tr>\n",
              "      <th>min</th>\n",
              "      <td>-122.513642</td>\n",
              "      <td>37.707879</td>\n",
              "    </tr>\n",
              "    <tr>\n",
              "      <th>25%</th>\n",
              "      <td>-122.432952</td>\n",
              "      <td>37.752427</td>\n",
              "    </tr>\n",
              "    <tr>\n",
              "      <th>50%</th>\n",
              "      <td>-122.416420</td>\n",
              "      <td>37.775421</td>\n",
              "    </tr>\n",
              "    <tr>\n",
              "      <th>75%</th>\n",
              "      <td>-122.406959</td>\n",
              "      <td>37.784369</td>\n",
              "    </tr>\n",
              "    <tr>\n",
              "      <th>max</th>\n",
              "      <td>-120.500000</td>\n",
              "      <td>90.000000</td>\n",
              "    </tr>\n",
              "  </tbody>\n",
              "</table>\n",
              "</div>\n",
              "      <button class=\"colab-df-convert\" onclick=\"convertToInteractive('df-af2cdf6b-e0f0-4517-9a32-78c709362536')\"\n",
              "              title=\"Convert this dataframe to an interactive table.\"\n",
              "              style=\"display:none;\">\n",
              "        \n",
              "  <svg xmlns=\"http://www.w3.org/2000/svg\" height=\"24px\"viewBox=\"0 0 24 24\"\n",
              "       width=\"24px\">\n",
              "    <path d=\"M0 0h24v24H0V0z\" fill=\"none\"/>\n",
              "    <path d=\"M18.56 5.44l.94 2.06.94-2.06 2.06-.94-2.06-.94-.94-2.06-.94 2.06-2.06.94zm-11 1L8.5 8.5l.94-2.06 2.06-.94-2.06-.94L8.5 2.5l-.94 2.06-2.06.94zm10 10l.94 2.06.94-2.06 2.06-.94-2.06-.94-.94-2.06-.94 2.06-2.06.94z\"/><path d=\"M17.41 7.96l-1.37-1.37c-.4-.4-.92-.59-1.43-.59-.52 0-1.04.2-1.43.59L10.3 9.45l-7.72 7.72c-.78.78-.78 2.05 0 2.83L4 21.41c.39.39.9.59 1.41.59.51 0 1.02-.2 1.41-.59l7.78-7.78 2.81-2.81c.8-.78.8-2.07 0-2.86zM5.41 20L4 18.59l7.72-7.72 1.47 1.35L5.41 20z\"/>\n",
              "  </svg>\n",
              "      </button>\n",
              "      \n",
              "  <style>\n",
              "    .colab-df-container {\n",
              "      display:flex;\n",
              "      flex-wrap:wrap;\n",
              "      gap: 12px;\n",
              "    }\n",
              "\n",
              "    .colab-df-convert {\n",
              "      background-color: #E8F0FE;\n",
              "      border: none;\n",
              "      border-radius: 50%;\n",
              "      cursor: pointer;\n",
              "      display: none;\n",
              "      fill: #1967D2;\n",
              "      height: 32px;\n",
              "      padding: 0 0 0 0;\n",
              "      width: 32px;\n",
              "    }\n",
              "\n",
              "    .colab-df-convert:hover {\n",
              "      background-color: #E2EBFA;\n",
              "      box-shadow: 0px 1px 2px rgba(60, 64, 67, 0.3), 0px 1px 3px 1px rgba(60, 64, 67, 0.15);\n",
              "      fill: #174EA6;\n",
              "    }\n",
              "\n",
              "    [theme=dark] .colab-df-convert {\n",
              "      background-color: #3B4455;\n",
              "      fill: #D2E3FC;\n",
              "    }\n",
              "\n",
              "    [theme=dark] .colab-df-convert:hover {\n",
              "      background-color: #434B5C;\n",
              "      box-shadow: 0px 1px 3px 1px rgba(0, 0, 0, 0.15);\n",
              "      filter: drop-shadow(0px 1px 2px rgba(0, 0, 0, 0.3));\n",
              "      fill: #FFFFFF;\n",
              "    }\n",
              "  </style>\n",
              "\n",
              "      <script>\n",
              "        const buttonEl =\n",
              "          document.querySelector('#df-af2cdf6b-e0f0-4517-9a32-78c709362536 button.colab-df-convert');\n",
              "        buttonEl.style.display =\n",
              "          google.colab.kernel.accessAllowed ? 'block' : 'none';\n",
              "\n",
              "        async function convertToInteractive(key) {\n",
              "          const element = document.querySelector('#df-af2cdf6b-e0f0-4517-9a32-78c709362536');\n",
              "          const dataTable =\n",
              "            await google.colab.kernel.invokeFunction('convertToInteractive',\n",
              "                                                     [key], {});\n",
              "          if (!dataTable) return;\n",
              "\n",
              "          const docLinkHtml = 'Like what you see? Visit the ' +\n",
              "            '<a target=\"_blank\" href=https://colab.research.google.com/notebooks/data_table.ipynb>data table notebook</a>'\n",
              "            + ' to learn more about interactive tables.';\n",
              "          element.innerHTML = '';\n",
              "          dataTable['output_type'] = 'display_data';\n",
              "          await google.colab.output.renderOutput(dataTable, element);\n",
              "          const docLink = document.createElement('div');\n",
              "          docLink.innerHTML = docLinkHtml;\n",
              "          element.appendChild(docLink);\n",
              "        }\n",
              "      </script>\n",
              "    </div>\n",
              "  </div>\n",
              "  "
            ]
          },
          "metadata": {},
          "execution_count": 5
        }
      ]
    },
    {
      "cell_type": "markdown",
      "source": [
        "#### 04. 각 컬럼의 데이터 타입 확인하기"
      ],
      "metadata": {
        "id": "o5-wGzw0we1b"
      }
    },
    {
      "cell_type": "code",
      "source": [
        "san.info()"
      ],
      "metadata": {
        "colab": {
          "base_uri": "https://localhost:8080/"
        },
        "id": "xlUsW7_Ewg5d",
        "outputId": "a1c0f597-cc47-463c-eff2-5b68e7e08e6a"
      },
      "execution_count": null,
      "outputs": [
        {
          "output_type": "stream",
          "name": "stdout",
          "text": [
            "<class 'pandas.core.frame.DataFrame'>\n",
            "RangeIndex: 878049 entries, 0 to 878048\n",
            "Data columns (total 9 columns):\n",
            " #   Column      Non-Null Count   Dtype  \n",
            "---  ------      --------------   -----  \n",
            " 0   Dates       878049 non-null  object \n",
            " 1   Category    878049 non-null  object \n",
            " 2   Descript    878049 non-null  object \n",
            " 3   DayOfWeek   878049 non-null  object \n",
            " 4   PdDistrict  878049 non-null  object \n",
            " 5   Resolution  878049 non-null  object \n",
            " 6   Address     878049 non-null  object \n",
            " 7   X           878049 non-null  float64\n",
            " 8   Y           878049 non-null  float64\n",
            "dtypes: float64(2), object(7)\n",
            "memory usage: 60.3+ MB\n"
          ]
        }
      ]
    },
    {
      "cell_type": "markdown",
      "source": [
        "#### 05. 범죄의 범주 'Category'는 어떤 값이 있는지 확인하기"
      ],
      "metadata": {
        "id": "YWpqENrYwhJV"
      }
    },
    {
      "cell_type": "code",
      "source": [
        "san.Category.unique()"
      ],
      "metadata": {
        "colab": {
          "base_uri": "https://localhost:8080/"
        },
        "id": "Kuf8_xEawhhk",
        "outputId": "a43eab71-328b-4df1-dabf-5e961d7b67df"
      },
      "execution_count": null,
      "outputs": [
        {
          "output_type": "execute_result",
          "data": {
            "text/plain": [
              "array(['WARRANTS', 'OTHER OFFENSES', 'LARCENY/THEFT', 'VEHICLE THEFT',\n",
              "       'VANDALISM', 'NON-CRIMINAL', 'ROBBERY', 'ASSAULT', 'WEAPON LAWS',\n",
              "       'BURGLARY', 'SUSPICIOUS OCC', 'DRUNKENNESS',\n",
              "       'FORGERY/COUNTERFEITING', 'DRUG/NARCOTIC', 'STOLEN PROPERTY',\n",
              "       'SECONDARY CODES', 'TRESPASS', 'MISSING PERSON', 'FRAUD',\n",
              "       'KIDNAPPING', 'RUNAWAY', 'DRIVING UNDER THE INFLUENCE',\n",
              "       'SEX OFFENSES FORCIBLE', 'PROSTITUTION', 'DISORDERLY CONDUCT',\n",
              "       'ARSON', 'FAMILY OFFENSES', 'LIQUOR LAWS', 'BRIBERY',\n",
              "       'EMBEZZLEMENT', 'SUICIDE', 'LOITERING',\n",
              "       'SEX OFFENSES NON FORCIBLE', 'EXTORTION', 'GAMBLING', 'BAD CHECKS',\n",
              "       'TREA', 'RECOVERED VEHICLE', 'PORNOGRAPHY/OBSCENE MAT'],\n",
              "      dtype=object)"
            ]
          },
          "metadata": {},
          "execution_count": 7
        }
      ]
    },
    {
      "cell_type": "markdown",
      "source": [
        "### 데이터 전처리"
      ],
      "metadata": {
        "id": "zfqvU3d6xGpt"
      }
    },
    {
      "cell_type": "markdown",
      "source": [
        "#### 06. Dates 필드의 데이터타입을 'datetime64' 타입으로 변경하기\n"
      ],
      "metadata": {
        "id": "75v8RL-RxJw5"
      }
    },
    {
      "cell_type": "code",
      "source": [
        "san.Dates = san.Dates.astype('datetime64')\n",
        "san.info() #  0   Dates       878049 non-null  datetime64[ns] -> checked"
      ],
      "metadata": {
        "colab": {
          "base_uri": "https://localhost:8080/"
        },
        "id": "l7e5Wa3fxXYN",
        "outputId": "28acb860-0823-4184-af82-290fbe6fe88c"
      },
      "execution_count": null,
      "outputs": [
        {
          "output_type": "stream",
          "name": "stdout",
          "text": [
            "<class 'pandas.core.frame.DataFrame'>\n",
            "RangeIndex: 878049 entries, 0 to 878048\n",
            "Data columns (total 9 columns):\n",
            " #   Column      Non-Null Count   Dtype         \n",
            "---  ------      --------------   -----         \n",
            " 0   Dates       878049 non-null  datetime64[ns]\n",
            " 1   Category    878049 non-null  object        \n",
            " 2   Descript    878049 non-null  object        \n",
            " 3   DayOfWeek   878049 non-null  object        \n",
            " 4   PdDistrict  878049 non-null  object        \n",
            " 5   Resolution  878049 non-null  object        \n",
            " 6   Address     878049 non-null  object        \n",
            " 7   X           878049 non-null  float64       \n",
            " 8   Y           878049 non-null  float64       \n",
            "dtypes: datetime64[ns](1), float64(2), object(6)\n",
            "memory usage: 60.3+ MB\n"
          ]
        }
      ]
    },
    {
      "cell_type": "markdown",
      "source": [
        "\n",
        "#### 07. 연, 월, 일, 요일, 시, 분값을 새로운 컬럼(year, month, day, dayofweek, hour, minute)을 생성해서 할당하기"
      ],
      "metadata": {
        "id": "9YzyG-TbxXqh"
      }
    },
    {
      "cell_type": "code",
      "source": [
        "san['year'] = san.Dates.dt.year\n",
        "san['month'] = san.Dates.dt.month\n",
        "san['day'] = san.Dates.dt.day\n",
        "san['dayofweek'] = san.Dates.dt.dayofweek\n",
        "san['hour'] = san.Dates.dt.hour\n",
        "san['minute'] = san.Dates.dt.minute\n",
        "san.info()"
      ],
      "metadata": {
        "colab": {
          "base_uri": "https://localhost:8080/"
        },
        "id": "08gX-uybxZIu",
        "outputId": "6055cb4e-af5a-44f1-d673-215d3918cb2a"
      },
      "execution_count": null,
      "outputs": [
        {
          "output_type": "stream",
          "name": "stdout",
          "text": [
            "<class 'pandas.core.frame.DataFrame'>\n",
            "RangeIndex: 878049 entries, 0 to 878048\n",
            "Data columns (total 15 columns):\n",
            " #   Column      Non-Null Count   Dtype         \n",
            "---  ------      --------------   -----         \n",
            " 0   Dates       878049 non-null  datetime64[ns]\n",
            " 1   Category    878049 non-null  object        \n",
            " 2   Descript    878049 non-null  object        \n",
            " 3   DayOfWeek   878049 non-null  object        \n",
            " 4   PdDistrict  878049 non-null  object        \n",
            " 5   Resolution  878049 non-null  object        \n",
            " 6   Address     878049 non-null  object        \n",
            " 7   X           878049 non-null  float64       \n",
            " 8   Y           878049 non-null  float64       \n",
            " 9   year        878049 non-null  int64         \n",
            " 10  month       878049 non-null  int64         \n",
            " 11  day         878049 non-null  int64         \n",
            " 12  dayofweek   878049 non-null  int64         \n",
            " 13  hour        878049 non-null  int64         \n",
            " 14  minute      878049 non-null  int64         \n",
            "dtypes: datetime64[ns](1), float64(2), int64(6), object(6)\n",
            "memory usage: 100.5+ MB\n"
          ]
        }
      ]
    },
    {
      "cell_type": "markdown",
      "source": [
        "#### 08. 범죄가 발생한 경도, 위도 값을 나타내는 X, Y 컬럼의 값을 더한 값을 담은 'X+Y' 컬럼, X, Y의 차이 값을 담은 'X-Y' 컬럼을 생성하기\n"
      ],
      "metadata": {
        "id": "fImLofKkxZ6e"
      }
    },
    {
      "cell_type": "code",
      "source": [
        "san['X+Y'] = san['X'] + san['Y']\n",
        "san['X-Y'] = san['X'] - san['Y']\n",
        "san.info()"
      ],
      "metadata": {
        "colab": {
          "base_uri": "https://localhost:8080/"
        },
        "id": "OeBNzOMDxZcy",
        "outputId": "610e8810-33f6-4e65-a992-7695807a13d4"
      },
      "execution_count": null,
      "outputs": [
        {
          "output_type": "stream",
          "name": "stdout",
          "text": [
            "<class 'pandas.core.frame.DataFrame'>\n",
            "RangeIndex: 878049 entries, 0 to 878048\n",
            "Data columns (total 17 columns):\n",
            " #   Column      Non-Null Count   Dtype         \n",
            "---  ------      --------------   -----         \n",
            " 0   Dates       878049 non-null  datetime64[ns]\n",
            " 1   Category    878049 non-null  object        \n",
            " 2   Descript    878049 non-null  object        \n",
            " 3   DayOfWeek   878049 non-null  object        \n",
            " 4   PdDistrict  878049 non-null  object        \n",
            " 5   Resolution  878049 non-null  object        \n",
            " 6   Address     878049 non-null  object        \n",
            " 7   X           878049 non-null  float64       \n",
            " 8   Y           878049 non-null  float64       \n",
            " 9   year        878049 non-null  int64         \n",
            " 10  month       878049 non-null  int64         \n",
            " 11  day         878049 non-null  int64         \n",
            " 12  dayofweek   878049 non-null  int64         \n",
            " 13  hour        878049 non-null  int64         \n",
            " 14  minute      878049 non-null  int64         \n",
            " 15  X+Y         878049 non-null  float64       \n",
            " 16  X-Y         878049 non-null  float64       \n",
            "dtypes: datetime64[ns](1), float64(4), int64(6), object(6)\n",
            "memory usage: 113.9+ MB\n"
          ]
        }
      ]
    },
    {
      "cell_type": "markdown",
      "source": [
        "#### 09. n_days라는 컬럼을 생성하고, 일별 d-day를 계산하여 입력하기\n",
        "예: 범죄 첫발생일: 0, 다음 발생일: 1"
      ],
      "metadata": {
        "id": "e8fmR9zpxb9M"
      }
    },
    {
      "cell_type": "code",
      "source": [
        "san['n_days'] = (san['Dates'].dt.date - san['Dates'].dt.date.min()).apply(lambda x: x.days)\n",
        "san['n_days']"
      ],
      "metadata": {
        "colab": {
          "base_uri": "https://localhost:8080/"
        },
        "id": "fRgpgkAvxZaj",
        "outputId": "e2898016-8c20-470d-baec-0ef97e12359f"
      },
      "execution_count": null,
      "outputs": [
        {
          "output_type": "execute_result",
          "data": {
            "text/plain": [
              "0         4510\n",
              "1         4510\n",
              "2         4510\n",
              "3         4510\n",
              "4         4510\n",
              "          ... \n",
              "878044       0\n",
              "878045       0\n",
              "878046       0\n",
              "878047       0\n",
              "878048       0\n",
              "Name: n_days, Length: 878049, dtype: int64"
            ]
          },
          "metadata": {},
          "execution_count": 11
        }
      ]
    },
    {
      "cell_type": "markdown",
      "source": [
        "#### 10. 변수 y를 선언해서 학습할 목표변수(=종속변수)인 Category 필드값을 담기"
      ],
      "metadata": {
        "id": "avcxH0Lfxdj0"
      }
    },
    {
      "cell_type": "code",
      "source": [
        "y = san['Category']\n",
        "y"
      ],
      "metadata": {
        "colab": {
          "base_uri": "https://localhost:8080/"
        },
        "id": "Co1tx3wDxZYp",
        "outputId": "4f92857c-3cf4-46e3-b310-5e4582f3623f"
      },
      "execution_count": null,
      "outputs": [
        {
          "output_type": "execute_result",
          "data": {
            "text/plain": [
              "0                       WARRANTS\n",
              "1                 OTHER OFFENSES\n",
              "2                 OTHER OFFENSES\n",
              "3                  LARCENY/THEFT\n",
              "4                  LARCENY/THEFT\n",
              "                   ...          \n",
              "878044                   ROBBERY\n",
              "878045             LARCENY/THEFT\n",
              "878046             LARCENY/THEFT\n",
              "878047                 VANDALISM\n",
              "878048    FORGERY/COUNTERFEITING\n",
              "Name: Category, Length: 878049, dtype: object"
            ]
          },
          "metadata": {},
          "execution_count": 12
        }
      ]
    },
    {
      "cell_type": "markdown",
      "source": [
        "#### 11. 연도별(year) 범죄 발생 횟수를 알아보기\n",
        "[힌트]\n",
        "* value_counts를 사용하는 방법\n",
        "* groupby를 사용하는 방법"
      ],
      "metadata": {
        "id": "_j4jWLiPxe9q"
      }
    },
    {
      "cell_type": "code",
      "source": [
        "san.groupby(by='year').count()"
      ],
      "metadata": {
        "colab": {
          "base_uri": "https://localhost:8080/",
          "height": 552
        },
        "id": "37nWZvLXxZW3",
        "outputId": "16a8e178-1ad8-4e30-ce9b-149363878043"
      },
      "execution_count": null,
      "outputs": [
        {
          "output_type": "execute_result",
          "data": {
            "text/plain": [
              "      Dates  Category  Descript  DayOfWeek  PdDistrict  Resolution  Address  \\\n",
              "year                                                                          \n",
              "2003  73902     73902     73902      73902       73902       73902    73902   \n",
              "2004  73422     73422     73422      73422       73422       73422    73422   \n",
              "2005  70779     70779     70779      70779       70779       70779    70779   \n",
              "2006  69909     69909     69909      69909       69909       69909    69909   \n",
              "2007  68015     68015     68015      68015       68015       68015    68015   \n",
              "2008  70174     70174     70174      70174       70174       70174    70174   \n",
              "2009  69000     69000     69000      69000       69000       69000    69000   \n",
              "2010  66542     66542     66542      66542       66542       66542    66542   \n",
              "2011  66619     66619     66619      66619       66619       66619    66619   \n",
              "2012  71731     71731     71731      71731       71731       71731    71731   \n",
              "2013  75606     75606     75606      75606       75606       75606    75606   \n",
              "2014  74766     74766     74766      74766       74766       74766    74766   \n",
              "2015  27584     27584     27584      27584       27584       27584    27584   \n",
              "\n",
              "          X      Y  month    day  dayofweek   hour  minute    X+Y    X-Y  \\\n",
              "year                                                                       \n",
              "2003  73902  73902  73902  73902      73902  73902   73902  73902  73902   \n",
              "2004  73422  73422  73422  73422      73422  73422   73422  73422  73422   \n",
              "2005  70779  70779  70779  70779      70779  70779   70779  70779  70779   \n",
              "2006  69909  69909  69909  69909      69909  69909   69909  69909  69909   \n",
              "2007  68015  68015  68015  68015      68015  68015   68015  68015  68015   \n",
              "2008  70174  70174  70174  70174      70174  70174   70174  70174  70174   \n",
              "2009  69000  69000  69000  69000      69000  69000   69000  69000  69000   \n",
              "2010  66542  66542  66542  66542      66542  66542   66542  66542  66542   \n",
              "2011  66619  66619  66619  66619      66619  66619   66619  66619  66619   \n",
              "2012  71731  71731  71731  71731      71731  71731   71731  71731  71731   \n",
              "2013  75606  75606  75606  75606      75606  75606   75606  75606  75606   \n",
              "2014  74766  74766  74766  74766      74766  74766   74766  74766  74766   \n",
              "2015  27584  27584  27584  27584      27584  27584   27584  27584  27584   \n",
              "\n",
              "      n_days  \n",
              "year          \n",
              "2003   73902  \n",
              "2004   73422  \n",
              "2005   70779  \n",
              "2006   69909  \n",
              "2007   68015  \n",
              "2008   70174  \n",
              "2009   69000  \n",
              "2010   66542  \n",
              "2011   66619  \n",
              "2012   71731  \n",
              "2013   75606  \n",
              "2014   74766  \n",
              "2015   27584  "
            ],
            "text/html": [
              "\n",
              "  <div id=\"df-13022f02-7855-40e9-a2d2-1160b7e2f6b3\">\n",
              "    <div class=\"colab-df-container\">\n",
              "      <div>\n",
              "<style scoped>\n",
              "    .dataframe tbody tr th:only-of-type {\n",
              "        vertical-align: middle;\n",
              "    }\n",
              "\n",
              "    .dataframe tbody tr th {\n",
              "        vertical-align: top;\n",
              "    }\n",
              "\n",
              "    .dataframe thead th {\n",
              "        text-align: right;\n",
              "    }\n",
              "</style>\n",
              "<table border=\"1\" class=\"dataframe\">\n",
              "  <thead>\n",
              "    <tr style=\"text-align: right;\">\n",
              "      <th></th>\n",
              "      <th>Dates</th>\n",
              "      <th>Category</th>\n",
              "      <th>Descript</th>\n",
              "      <th>DayOfWeek</th>\n",
              "      <th>PdDistrict</th>\n",
              "      <th>Resolution</th>\n",
              "      <th>Address</th>\n",
              "      <th>X</th>\n",
              "      <th>Y</th>\n",
              "      <th>month</th>\n",
              "      <th>day</th>\n",
              "      <th>dayofweek</th>\n",
              "      <th>hour</th>\n",
              "      <th>minute</th>\n",
              "      <th>X+Y</th>\n",
              "      <th>X-Y</th>\n",
              "      <th>n_days</th>\n",
              "    </tr>\n",
              "    <tr>\n",
              "      <th>year</th>\n",
              "      <th></th>\n",
              "      <th></th>\n",
              "      <th></th>\n",
              "      <th></th>\n",
              "      <th></th>\n",
              "      <th></th>\n",
              "      <th></th>\n",
              "      <th></th>\n",
              "      <th></th>\n",
              "      <th></th>\n",
              "      <th></th>\n",
              "      <th></th>\n",
              "      <th></th>\n",
              "      <th></th>\n",
              "      <th></th>\n",
              "      <th></th>\n",
              "      <th></th>\n",
              "    </tr>\n",
              "  </thead>\n",
              "  <tbody>\n",
              "    <tr>\n",
              "      <th>2003</th>\n",
              "      <td>73902</td>\n",
              "      <td>73902</td>\n",
              "      <td>73902</td>\n",
              "      <td>73902</td>\n",
              "      <td>73902</td>\n",
              "      <td>73902</td>\n",
              "      <td>73902</td>\n",
              "      <td>73902</td>\n",
              "      <td>73902</td>\n",
              "      <td>73902</td>\n",
              "      <td>73902</td>\n",
              "      <td>73902</td>\n",
              "      <td>73902</td>\n",
              "      <td>73902</td>\n",
              "      <td>73902</td>\n",
              "      <td>73902</td>\n",
              "      <td>73902</td>\n",
              "    </tr>\n",
              "    <tr>\n",
              "      <th>2004</th>\n",
              "      <td>73422</td>\n",
              "      <td>73422</td>\n",
              "      <td>73422</td>\n",
              "      <td>73422</td>\n",
              "      <td>73422</td>\n",
              "      <td>73422</td>\n",
              "      <td>73422</td>\n",
              "      <td>73422</td>\n",
              "      <td>73422</td>\n",
              "      <td>73422</td>\n",
              "      <td>73422</td>\n",
              "      <td>73422</td>\n",
              "      <td>73422</td>\n",
              "      <td>73422</td>\n",
              "      <td>73422</td>\n",
              "      <td>73422</td>\n",
              "      <td>73422</td>\n",
              "    </tr>\n",
              "    <tr>\n",
              "      <th>2005</th>\n",
              "      <td>70779</td>\n",
              "      <td>70779</td>\n",
              "      <td>70779</td>\n",
              "      <td>70779</td>\n",
              "      <td>70779</td>\n",
              "      <td>70779</td>\n",
              "      <td>70779</td>\n",
              "      <td>70779</td>\n",
              "      <td>70779</td>\n",
              "      <td>70779</td>\n",
              "      <td>70779</td>\n",
              "      <td>70779</td>\n",
              "      <td>70779</td>\n",
              "      <td>70779</td>\n",
              "      <td>70779</td>\n",
              "      <td>70779</td>\n",
              "      <td>70779</td>\n",
              "    </tr>\n",
              "    <tr>\n",
              "      <th>2006</th>\n",
              "      <td>69909</td>\n",
              "      <td>69909</td>\n",
              "      <td>69909</td>\n",
              "      <td>69909</td>\n",
              "      <td>69909</td>\n",
              "      <td>69909</td>\n",
              "      <td>69909</td>\n",
              "      <td>69909</td>\n",
              "      <td>69909</td>\n",
              "      <td>69909</td>\n",
              "      <td>69909</td>\n",
              "      <td>69909</td>\n",
              "      <td>69909</td>\n",
              "      <td>69909</td>\n",
              "      <td>69909</td>\n",
              "      <td>69909</td>\n",
              "      <td>69909</td>\n",
              "    </tr>\n",
              "    <tr>\n",
              "      <th>2007</th>\n",
              "      <td>68015</td>\n",
              "      <td>68015</td>\n",
              "      <td>68015</td>\n",
              "      <td>68015</td>\n",
              "      <td>68015</td>\n",
              "      <td>68015</td>\n",
              "      <td>68015</td>\n",
              "      <td>68015</td>\n",
              "      <td>68015</td>\n",
              "      <td>68015</td>\n",
              "      <td>68015</td>\n",
              "      <td>68015</td>\n",
              "      <td>68015</td>\n",
              "      <td>68015</td>\n",
              "      <td>68015</td>\n",
              "      <td>68015</td>\n",
              "      <td>68015</td>\n",
              "    </tr>\n",
              "    <tr>\n",
              "      <th>2008</th>\n",
              "      <td>70174</td>\n",
              "      <td>70174</td>\n",
              "      <td>70174</td>\n",
              "      <td>70174</td>\n",
              "      <td>70174</td>\n",
              "      <td>70174</td>\n",
              "      <td>70174</td>\n",
              "      <td>70174</td>\n",
              "      <td>70174</td>\n",
              "      <td>70174</td>\n",
              "      <td>70174</td>\n",
              "      <td>70174</td>\n",
              "      <td>70174</td>\n",
              "      <td>70174</td>\n",
              "      <td>70174</td>\n",
              "      <td>70174</td>\n",
              "      <td>70174</td>\n",
              "    </tr>\n",
              "    <tr>\n",
              "      <th>2009</th>\n",
              "      <td>69000</td>\n",
              "      <td>69000</td>\n",
              "      <td>69000</td>\n",
              "      <td>69000</td>\n",
              "      <td>69000</td>\n",
              "      <td>69000</td>\n",
              "      <td>69000</td>\n",
              "      <td>69000</td>\n",
              "      <td>69000</td>\n",
              "      <td>69000</td>\n",
              "      <td>69000</td>\n",
              "      <td>69000</td>\n",
              "      <td>69000</td>\n",
              "      <td>69000</td>\n",
              "      <td>69000</td>\n",
              "      <td>69000</td>\n",
              "      <td>69000</td>\n",
              "    </tr>\n",
              "    <tr>\n",
              "      <th>2010</th>\n",
              "      <td>66542</td>\n",
              "      <td>66542</td>\n",
              "      <td>66542</td>\n",
              "      <td>66542</td>\n",
              "      <td>66542</td>\n",
              "      <td>66542</td>\n",
              "      <td>66542</td>\n",
              "      <td>66542</td>\n",
              "      <td>66542</td>\n",
              "      <td>66542</td>\n",
              "      <td>66542</td>\n",
              "      <td>66542</td>\n",
              "      <td>66542</td>\n",
              "      <td>66542</td>\n",
              "      <td>66542</td>\n",
              "      <td>66542</td>\n",
              "      <td>66542</td>\n",
              "    </tr>\n",
              "    <tr>\n",
              "      <th>2011</th>\n",
              "      <td>66619</td>\n",
              "      <td>66619</td>\n",
              "      <td>66619</td>\n",
              "      <td>66619</td>\n",
              "      <td>66619</td>\n",
              "      <td>66619</td>\n",
              "      <td>66619</td>\n",
              "      <td>66619</td>\n",
              "      <td>66619</td>\n",
              "      <td>66619</td>\n",
              "      <td>66619</td>\n",
              "      <td>66619</td>\n",
              "      <td>66619</td>\n",
              "      <td>66619</td>\n",
              "      <td>66619</td>\n",
              "      <td>66619</td>\n",
              "      <td>66619</td>\n",
              "    </tr>\n",
              "    <tr>\n",
              "      <th>2012</th>\n",
              "      <td>71731</td>\n",
              "      <td>71731</td>\n",
              "      <td>71731</td>\n",
              "      <td>71731</td>\n",
              "      <td>71731</td>\n",
              "      <td>71731</td>\n",
              "      <td>71731</td>\n",
              "      <td>71731</td>\n",
              "      <td>71731</td>\n",
              "      <td>71731</td>\n",
              "      <td>71731</td>\n",
              "      <td>71731</td>\n",
              "      <td>71731</td>\n",
              "      <td>71731</td>\n",
              "      <td>71731</td>\n",
              "      <td>71731</td>\n",
              "      <td>71731</td>\n",
              "    </tr>\n",
              "    <tr>\n",
              "      <th>2013</th>\n",
              "      <td>75606</td>\n",
              "      <td>75606</td>\n",
              "      <td>75606</td>\n",
              "      <td>75606</td>\n",
              "      <td>75606</td>\n",
              "      <td>75606</td>\n",
              "      <td>75606</td>\n",
              "      <td>75606</td>\n",
              "      <td>75606</td>\n",
              "      <td>75606</td>\n",
              "      <td>75606</td>\n",
              "      <td>75606</td>\n",
              "      <td>75606</td>\n",
              "      <td>75606</td>\n",
              "      <td>75606</td>\n",
              "      <td>75606</td>\n",
              "      <td>75606</td>\n",
              "    </tr>\n",
              "    <tr>\n",
              "      <th>2014</th>\n",
              "      <td>74766</td>\n",
              "      <td>74766</td>\n",
              "      <td>74766</td>\n",
              "      <td>74766</td>\n",
              "      <td>74766</td>\n",
              "      <td>74766</td>\n",
              "      <td>74766</td>\n",
              "      <td>74766</td>\n",
              "      <td>74766</td>\n",
              "      <td>74766</td>\n",
              "      <td>74766</td>\n",
              "      <td>74766</td>\n",
              "      <td>74766</td>\n",
              "      <td>74766</td>\n",
              "      <td>74766</td>\n",
              "      <td>74766</td>\n",
              "      <td>74766</td>\n",
              "    </tr>\n",
              "    <tr>\n",
              "      <th>2015</th>\n",
              "      <td>27584</td>\n",
              "      <td>27584</td>\n",
              "      <td>27584</td>\n",
              "      <td>27584</td>\n",
              "      <td>27584</td>\n",
              "      <td>27584</td>\n",
              "      <td>27584</td>\n",
              "      <td>27584</td>\n",
              "      <td>27584</td>\n",
              "      <td>27584</td>\n",
              "      <td>27584</td>\n",
              "      <td>27584</td>\n",
              "      <td>27584</td>\n",
              "      <td>27584</td>\n",
              "      <td>27584</td>\n",
              "      <td>27584</td>\n",
              "      <td>27584</td>\n",
              "    </tr>\n",
              "  </tbody>\n",
              "</table>\n",
              "</div>\n",
              "      <button class=\"colab-df-convert\" onclick=\"convertToInteractive('df-13022f02-7855-40e9-a2d2-1160b7e2f6b3')\"\n",
              "              title=\"Convert this dataframe to an interactive table.\"\n",
              "              style=\"display:none;\">\n",
              "        \n",
              "  <svg xmlns=\"http://www.w3.org/2000/svg\" height=\"24px\"viewBox=\"0 0 24 24\"\n",
              "       width=\"24px\">\n",
              "    <path d=\"M0 0h24v24H0V0z\" fill=\"none\"/>\n",
              "    <path d=\"M18.56 5.44l.94 2.06.94-2.06 2.06-.94-2.06-.94-.94-2.06-.94 2.06-2.06.94zm-11 1L8.5 8.5l.94-2.06 2.06-.94-2.06-.94L8.5 2.5l-.94 2.06-2.06.94zm10 10l.94 2.06.94-2.06 2.06-.94-2.06-.94-.94-2.06-.94 2.06-2.06.94z\"/><path d=\"M17.41 7.96l-1.37-1.37c-.4-.4-.92-.59-1.43-.59-.52 0-1.04.2-1.43.59L10.3 9.45l-7.72 7.72c-.78.78-.78 2.05 0 2.83L4 21.41c.39.39.9.59 1.41.59.51 0 1.02-.2 1.41-.59l7.78-7.78 2.81-2.81c.8-.78.8-2.07 0-2.86zM5.41 20L4 18.59l7.72-7.72 1.47 1.35L5.41 20z\"/>\n",
              "  </svg>\n",
              "      </button>\n",
              "      \n",
              "  <style>\n",
              "    .colab-df-container {\n",
              "      display:flex;\n",
              "      flex-wrap:wrap;\n",
              "      gap: 12px;\n",
              "    }\n",
              "\n",
              "    .colab-df-convert {\n",
              "      background-color: #E8F0FE;\n",
              "      border: none;\n",
              "      border-radius: 50%;\n",
              "      cursor: pointer;\n",
              "      display: none;\n",
              "      fill: #1967D2;\n",
              "      height: 32px;\n",
              "      padding: 0 0 0 0;\n",
              "      width: 32px;\n",
              "    }\n",
              "\n",
              "    .colab-df-convert:hover {\n",
              "      background-color: #E2EBFA;\n",
              "      box-shadow: 0px 1px 2px rgba(60, 64, 67, 0.3), 0px 1px 3px 1px rgba(60, 64, 67, 0.15);\n",
              "      fill: #174EA6;\n",
              "    }\n",
              "\n",
              "    [theme=dark] .colab-df-convert {\n",
              "      background-color: #3B4455;\n",
              "      fill: #D2E3FC;\n",
              "    }\n",
              "\n",
              "    [theme=dark] .colab-df-convert:hover {\n",
              "      background-color: #434B5C;\n",
              "      box-shadow: 0px 1px 3px 1px rgba(0, 0, 0, 0.15);\n",
              "      filter: drop-shadow(0px 1px 2px rgba(0, 0, 0, 0.3));\n",
              "      fill: #FFFFFF;\n",
              "    }\n",
              "  </style>\n",
              "\n",
              "      <script>\n",
              "        const buttonEl =\n",
              "          document.querySelector('#df-13022f02-7855-40e9-a2d2-1160b7e2f6b3 button.colab-df-convert');\n",
              "        buttonEl.style.display =\n",
              "          google.colab.kernel.accessAllowed ? 'block' : 'none';\n",
              "\n",
              "        async function convertToInteractive(key) {\n",
              "          const element = document.querySelector('#df-13022f02-7855-40e9-a2d2-1160b7e2f6b3');\n",
              "          const dataTable =\n",
              "            await google.colab.kernel.invokeFunction('convertToInteractive',\n",
              "                                                     [key], {});\n",
              "          if (!dataTable) return;\n",
              "\n",
              "          const docLinkHtml = 'Like what you see? Visit the ' +\n",
              "            '<a target=\"_blank\" href=https://colab.research.google.com/notebooks/data_table.ipynb>data table notebook</a>'\n",
              "            + ' to learn more about interactive tables.';\n",
              "          element.innerHTML = '';\n",
              "          dataTable['output_type'] = 'display_data';\n",
              "          await google.colab.output.renderOutput(dataTable, element);\n",
              "          const docLink = document.createElement('div');\n",
              "          docLink.innerHTML = docLinkHtml;\n",
              "          element.appendChild(docLink);\n",
              "        }\n",
              "      </script>\n",
              "    </div>\n",
              "  </div>\n",
              "  "
            ]
          },
          "metadata": {},
          "execution_count": 18
        }
      ]
    },
    {
      "cell_type": "code",
      "source": [
        "san.value_counts(san['year']).sort_index()"
      ],
      "metadata": {
        "colab": {
          "base_uri": "https://localhost:8080/"
        },
        "id": "Rq9sPvd5gbpC",
        "outputId": "cf98da44-3399-4803-a8e6-0b002ab6af31"
      },
      "execution_count": null,
      "outputs": [
        {
          "output_type": "execute_result",
          "data": {
            "text/plain": [
              "year\n",
              "2003    73902\n",
              "2004    73422\n",
              "2005    70779\n",
              "2006    69909\n",
              "2007    68015\n",
              "2008    70174\n",
              "2009    69000\n",
              "2010    66542\n",
              "2011    66619\n",
              "2012    71731\n",
              "2013    75606\n",
              "2014    74766\n",
              "2015    27584\n",
              "dtype: int64"
            ]
          },
          "metadata": {},
          "execution_count": 40
        }
      ]
    },
    {
      "cell_type": "markdown",
      "source": [
        "#### 12. 월별(month) 범죄 발생 횟수를 알아보기"
      ],
      "metadata": {
        "id": "PN8EMYB8e-vT"
      }
    },
    {
      "cell_type": "code",
      "source": [
        "san.groupby('month').size()"
      ],
      "metadata": {
        "colab": {
          "base_uri": "https://localhost:8080/"
        },
        "id": "vm414Ic9xZU1",
        "outputId": "8fd908d8-f205-47e4-be35-738109c9274d"
      },
      "execution_count": null,
      "outputs": [
        {
          "output_type": "execute_result",
          "data": {
            "text/plain": [
              "month\n",
              "1     73536\n",
              "2     70813\n",
              "3     76320\n",
              "4     78096\n",
              "5     79644\n",
              "6     70892\n",
              "7     69971\n",
              "8     68540\n",
              "9     71982\n",
              "10    80274\n",
              "11    72975\n",
              "12    65006\n",
              "dtype: int64"
            ]
          },
          "metadata": {},
          "execution_count": 41
        }
      ]
    },
    {
      "cell_type": "markdown",
      "source": [
        "#### 13. 요일별(DayOfWeek) 범죄 발생 횟수를 알아보기"
      ],
      "metadata": {
        "id": "TVdXAd9Bxh65"
      }
    },
    {
      "cell_type": "code",
      "source": [
        "pd.value_counts(san['DayOfWeek'])"
      ],
      "metadata": {
        "colab": {
          "base_uri": "https://localhost:8080/"
        },
        "id": "lr2GwgYQiNPo",
        "outputId": "41ce8629-ef01-4d9b-839a-d8bf48dacf53"
      },
      "execution_count": null,
      "outputs": [
        {
          "output_type": "execute_result",
          "data": {
            "text/plain": [
              "Friday       133734\n",
              "Wednesday    129211\n",
              "Saturday     126810\n",
              "Thursday     125038\n",
              "Tuesday      124965\n",
              "Monday       121584\n",
              "Sunday       116707\n",
              "Name: DayOfWeek, dtype: int64"
            ]
          },
          "metadata": {},
          "execution_count": 44
        }
      ]
    },
    {
      "cell_type": "code",
      "source": [
        "san.value_counts(san['DayOfWeek'], ascending = True)"
      ],
      "metadata": {
        "colab": {
          "base_uri": "https://localhost:8080/"
        },
        "id": "R2KayvM5xZSh",
        "outputId": "119c7f39-5383-4140-a0ea-cbec75d25710"
      },
      "execution_count": null,
      "outputs": [
        {
          "output_type": "execute_result",
          "data": {
            "text/plain": [
              "DayOfWeek\n",
              "Sunday       116707\n",
              "Monday       121584\n",
              "Tuesday      124965\n",
              "Thursday     125038\n",
              "Saturday     126810\n",
              "Wednesday    129211\n",
              "Friday       133734\n",
              "dtype: int64"
            ]
          },
          "metadata": {},
          "execution_count": 47
        }
      ]
    },
    {
      "cell_type": "markdown",
      "source": [
        "#### 14. 카테고리별(Category) 범죄 발생 횟수를 알아보기"
      ],
      "metadata": {
        "id": "IqBaw8qsxjRt"
      }
    },
    {
      "cell_type": "code",
      "source": [
        "san.value_counts(san['Category'], ascending = True)"
      ],
      "metadata": {
        "colab": {
          "base_uri": "https://localhost:8080/"
        },
        "id": "DXYH3pA6xk78",
        "outputId": "59a88816-a096-4950-ec09-572ff67da6b9"
      },
      "execution_count": null,
      "outputs": [
        {
          "output_type": "execute_result",
          "data": {
            "text/plain": [
              "Category\n",
              "TREA                                6\n",
              "PORNOGRAPHY/OBSCENE MAT            22\n",
              "GAMBLING                          146\n",
              "SEX OFFENSES NON FORCIBLE         148\n",
              "EXTORTION                         256\n",
              "BRIBERY                           289\n",
              "BAD CHECKS                        406\n",
              "FAMILY OFFENSES                   491\n",
              "SUICIDE                           508\n",
              "EMBEZZLEMENT                     1166\n",
              "LOITERING                        1225\n",
              "ARSON                            1513\n",
              "LIQUOR LAWS                      1903\n",
              "RUNAWAY                          1946\n",
              "DRIVING UNDER THE INFLUENCE      2268\n",
              "KIDNAPPING                       2341\n",
              "RECOVERED VEHICLE                3138\n",
              "DRUNKENNESS                      4280\n",
              "DISORDERLY CONDUCT               4320\n",
              "SEX OFFENSES FORCIBLE            4388\n",
              "STOLEN PROPERTY                  4540\n",
              "TRESPASS                         7326\n",
              "PROSTITUTION                     7484\n",
              "WEAPON LAWS                      8555\n",
              "SECONDARY CODES                  9985\n",
              "FORGERY/COUNTERFEITING          10609\n",
              "FRAUD                           16679\n",
              "ROBBERY                         23000\n",
              "MISSING PERSON                  25989\n",
              "SUSPICIOUS OCC                  31414\n",
              "BURGLARY                        36755\n",
              "WARRANTS                        42214\n",
              "VANDALISM                       44725\n",
              "VEHICLE THEFT                   53781\n",
              "DRUG/NARCOTIC                   53971\n",
              "ASSAULT                         76876\n",
              "NON-CRIMINAL                    92304\n",
              "OTHER OFFENSES                 126182\n",
              "LARCENY/THEFT                  174900\n",
              "dtype: int64"
            ]
          },
          "metadata": {},
          "execution_count": 48
        }
      ]
    },
    {
      "cell_type": "markdown",
      "source": [
        "#### 15. null값이 포함된 데이터 필드가 있는지 확인하기"
      ],
      "metadata": {
        "id": "5S0hWzy7xlgs"
      }
    },
    {
      "cell_type": "code",
      "source": [
        "san.isnull().any().sum()"
      ],
      "metadata": {
        "colab": {
          "base_uri": "https://localhost:8080/"
        },
        "id": "QSjlgUMBxlIY",
        "outputId": "7f46441c-65e4-4eca-e370-ab330da50e7c"
      },
      "execution_count": null,
      "outputs": [
        {
          "output_type": "execute_result",
          "data": {
            "text/plain": [
              "0"
            ]
          },
          "metadata": {},
          "execution_count": 55
        }
      ]
    },
    {
      "cell_type": "markdown",
      "source": [
        "#### 16. 'Dates','Category','Descript','DayOfWeek','Resolution' 컬럼 삭제하기"
      ],
      "metadata": {
        "id": "pM7TThrExnpr"
      }
    },
    {
      "cell_type": "code",
      "source": [
        "# san = san.drop(['Dates','Category','Descript','DayOfWeek','Resolution'], axis=1)"
      ],
      "metadata": {
        "id": "krr2wUMQxlF4"
      },
      "execution_count": null,
      "outputs": []
    },
    {
      "cell_type": "markdown",
      "source": [
        "### 개인적 추가 및 공부"
      ],
      "metadata": {
        "id": "FLin38xDzym2"
      }
    },
    {
      "cell_type": "markdown",
      "source": [
        "#### Python extract dates with lambda\n",
        "from : https://www.w3resource.com/python-exercises/lambda/python-lambda-exercise-8.php"
      ],
      "metadata": {
        "id": "9v4DEFemz45w"
      }
    },
    {
      "cell_type": "code",
      "source": [
        "import datetime\n",
        "now = datetime.datetime.now()\n",
        "print(now)\n",
        "year = lambda x: x.year\n",
        "month = lambda x: x.month\n",
        "day = lambda x: x.day\n",
        "t = lambda x: x.time()\n",
        "print(year(now  ))\n",
        "print(month(now))\n",
        "print(day(now))\n",
        "print(t(now))"
      ],
      "metadata": {
        "colab": {
          "base_uri": "https://localhost:8080/"
        },
        "id": "CbdVJwWbz4mz",
        "outputId": "b4441cbe-3864-4520-a2c3-38ef77c47c78"
      },
      "execution_count": null,
      "outputs": [
        {
          "output_type": "stream",
          "name": "stdout",
          "text": [
            "2022-05-17 10:29:06.409347\n",
            "2022\n",
            "5\n",
            "17\n",
            "10:29:06.409347\n"
          ]
        }
      ]
    },
    {
      "cell_type": "code",
      "source": [
        "san['month'].value_counts()"
      ],
      "metadata": {
        "colab": {
          "base_uri": "https://localhost:8080/"
        },
        "id": "-q6M_O4H34ef",
        "outputId": "22dee84f-4bcd-4ef0-fee6-a082edbd35d5"
      },
      "execution_count": null,
      "outputs": [
        {
          "output_type": "execute_result",
          "data": {
            "text/plain": [
              "10    80274\n",
              "5     79644\n",
              "4     78096\n",
              "3     76320\n",
              "1     73536\n",
              "11    72975\n",
              "9     71982\n",
              "6     70892\n",
              "2     70813\n",
              "7     69971\n",
              "8     68540\n",
              "12    65006\n",
              "Name: month, dtype: int64"
            ]
          },
          "metadata": {},
          "execution_count": 59
        }
      ]
    },
    {
      "cell_type": "markdown",
      "source": [
        "## 04-03-02. 데이터시각화 실습\n",
        "https://wikidocs.net/86881"
      ],
      "metadata": {
        "id": "Ec0FA7zIkM0I"
      }
    },
    {
      "cell_type": "markdown",
      "source": [
        "#### 00. 필요 라이브러리 import"
      ],
      "metadata": {
        "id": "bU5RYpy8k2zb"
      }
    },
    {
      "cell_type": "code",
      "source": [
        "import seaborn as sns  \n",
        "import matplotlib.pylab as plt"
      ],
      "metadata": {
        "id": "E_zKx-7dk9m5"
      },
      "execution_count": null,
      "outputs": []
    },
    {
      "cell_type": "markdown",
      "source": [
        "#### 01. csv 파일을 데이터프레임으로 읽기"
      ],
      "metadata": {
        "id": "OGAasfe1t_FO"
      }
    },
    {
      "cell_type": "code",
      "source": [
        "san = pd.read_csv('/content/drive/MyDrive/스터디/group_offline6/san_train.csv')\n",
        "san"
      ],
      "metadata": {
        "colab": {
          "base_uri": "https://localhost:8080/",
          "height": 832
        },
        "outputId": "8d8e2355-3f8a-4803-9156-98a68146034c",
        "id": "eLIsz8WDt_FY"
      },
      "execution_count": null,
      "outputs": [
        {
          "output_type": "execute_result",
          "data": {
            "text/plain": [
              "                      Dates                Category  \\\n",
              "0       2015-05-13 23:53:00                WARRANTS   \n",
              "1       2015-05-13 23:53:00          OTHER OFFENSES   \n",
              "2       2015-05-13 23:33:00          OTHER OFFENSES   \n",
              "3       2015-05-13 23:30:00           LARCENY/THEFT   \n",
              "4       2015-05-13 23:30:00           LARCENY/THEFT   \n",
              "...                     ...                     ...   \n",
              "878044  2003-01-06 00:15:00                 ROBBERY   \n",
              "878045  2003-01-06 00:01:00           LARCENY/THEFT   \n",
              "878046  2003-01-06 00:01:00           LARCENY/THEFT   \n",
              "878047  2003-01-06 00:01:00               VANDALISM   \n",
              "878048  2003-01-06 00:01:00  FORGERY/COUNTERFEITING   \n",
              "\n",
              "                                         Descript  DayOfWeek PdDistrict  \\\n",
              "0                                  WARRANT ARREST  Wednesday   NORTHERN   \n",
              "1                        TRAFFIC VIOLATION ARREST  Wednesday   NORTHERN   \n",
              "2                        TRAFFIC VIOLATION ARREST  Wednesday   NORTHERN   \n",
              "3                    GRAND THEFT FROM LOCKED AUTO  Wednesday   NORTHERN   \n",
              "4                    GRAND THEFT FROM LOCKED AUTO  Wednesday       PARK   \n",
              "...                                           ...        ...        ...   \n",
              "878044           ROBBERY ON THE STREET WITH A GUN     Monday    TARAVAL   \n",
              "878045               GRAND THEFT FROM LOCKED AUTO     Monday  INGLESIDE   \n",
              "878046               GRAND THEFT FROM LOCKED AUTO     Monday   SOUTHERN   \n",
              "878047  MALICIOUS MISCHIEF, VANDALISM OF VEHICLES     Monday   SOUTHERN   \n",
              "878048                   CHECKS, FORGERY (FELONY)     Monday    BAYVIEW   \n",
              "\n",
              "            Resolution                     Address           X          Y  \n",
              "0       ARREST, BOOKED          OAK ST / LAGUNA ST -122.425892  37.774599  \n",
              "1       ARREST, BOOKED          OAK ST / LAGUNA ST -122.425892  37.774599  \n",
              "2       ARREST, BOOKED   VANNESS AV / GREENWICH ST -122.424363  37.800414  \n",
              "3                 NONE    1500 Block of LOMBARD ST -122.426995  37.800873  \n",
              "4                 NONE   100 Block of BRODERICK ST -122.438738  37.771541  \n",
              "...                ...                         ...         ...        ...  \n",
              "878044            NONE  FARALLONES ST / CAPITOL AV -122.459033  37.714056  \n",
              "878045            NONE        600 Block of EDNA ST -122.447364  37.731948  \n",
              "878046            NONE          5TH ST / FOLSOM ST -122.403390  37.780266  \n",
              "878047            NONE        TOWNSEND ST / 2ND ST -122.390531  37.780607  \n",
              "878048            NONE    1800 Block of NEWCOMB AV -122.394926  37.738212  \n",
              "\n",
              "[878049 rows x 9 columns]"
            ],
            "text/html": [
              "\n",
              "  <div id=\"df-90b54c9d-9036-4e12-884b-0ab363395148\">\n",
              "    <div class=\"colab-df-container\">\n",
              "      <div>\n",
              "<style scoped>\n",
              "    .dataframe tbody tr th:only-of-type {\n",
              "        vertical-align: middle;\n",
              "    }\n",
              "\n",
              "    .dataframe tbody tr th {\n",
              "        vertical-align: top;\n",
              "    }\n",
              "\n",
              "    .dataframe thead th {\n",
              "        text-align: right;\n",
              "    }\n",
              "</style>\n",
              "<table border=\"1\" class=\"dataframe\">\n",
              "  <thead>\n",
              "    <tr style=\"text-align: right;\">\n",
              "      <th></th>\n",
              "      <th>Dates</th>\n",
              "      <th>Category</th>\n",
              "      <th>Descript</th>\n",
              "      <th>DayOfWeek</th>\n",
              "      <th>PdDistrict</th>\n",
              "      <th>Resolution</th>\n",
              "      <th>Address</th>\n",
              "      <th>X</th>\n",
              "      <th>Y</th>\n",
              "    </tr>\n",
              "  </thead>\n",
              "  <tbody>\n",
              "    <tr>\n",
              "      <th>0</th>\n",
              "      <td>2015-05-13 23:53:00</td>\n",
              "      <td>WARRANTS</td>\n",
              "      <td>WARRANT ARREST</td>\n",
              "      <td>Wednesday</td>\n",
              "      <td>NORTHERN</td>\n",
              "      <td>ARREST, BOOKED</td>\n",
              "      <td>OAK ST / LAGUNA ST</td>\n",
              "      <td>-122.425892</td>\n",
              "      <td>37.774599</td>\n",
              "    </tr>\n",
              "    <tr>\n",
              "      <th>1</th>\n",
              "      <td>2015-05-13 23:53:00</td>\n",
              "      <td>OTHER OFFENSES</td>\n",
              "      <td>TRAFFIC VIOLATION ARREST</td>\n",
              "      <td>Wednesday</td>\n",
              "      <td>NORTHERN</td>\n",
              "      <td>ARREST, BOOKED</td>\n",
              "      <td>OAK ST / LAGUNA ST</td>\n",
              "      <td>-122.425892</td>\n",
              "      <td>37.774599</td>\n",
              "    </tr>\n",
              "    <tr>\n",
              "      <th>2</th>\n",
              "      <td>2015-05-13 23:33:00</td>\n",
              "      <td>OTHER OFFENSES</td>\n",
              "      <td>TRAFFIC VIOLATION ARREST</td>\n",
              "      <td>Wednesday</td>\n",
              "      <td>NORTHERN</td>\n",
              "      <td>ARREST, BOOKED</td>\n",
              "      <td>VANNESS AV / GREENWICH ST</td>\n",
              "      <td>-122.424363</td>\n",
              "      <td>37.800414</td>\n",
              "    </tr>\n",
              "    <tr>\n",
              "      <th>3</th>\n",
              "      <td>2015-05-13 23:30:00</td>\n",
              "      <td>LARCENY/THEFT</td>\n",
              "      <td>GRAND THEFT FROM LOCKED AUTO</td>\n",
              "      <td>Wednesday</td>\n",
              "      <td>NORTHERN</td>\n",
              "      <td>NONE</td>\n",
              "      <td>1500 Block of LOMBARD ST</td>\n",
              "      <td>-122.426995</td>\n",
              "      <td>37.800873</td>\n",
              "    </tr>\n",
              "    <tr>\n",
              "      <th>4</th>\n",
              "      <td>2015-05-13 23:30:00</td>\n",
              "      <td>LARCENY/THEFT</td>\n",
              "      <td>GRAND THEFT FROM LOCKED AUTO</td>\n",
              "      <td>Wednesday</td>\n",
              "      <td>PARK</td>\n",
              "      <td>NONE</td>\n",
              "      <td>100 Block of BRODERICK ST</td>\n",
              "      <td>-122.438738</td>\n",
              "      <td>37.771541</td>\n",
              "    </tr>\n",
              "    <tr>\n",
              "      <th>...</th>\n",
              "      <td>...</td>\n",
              "      <td>...</td>\n",
              "      <td>...</td>\n",
              "      <td>...</td>\n",
              "      <td>...</td>\n",
              "      <td>...</td>\n",
              "      <td>...</td>\n",
              "      <td>...</td>\n",
              "      <td>...</td>\n",
              "    </tr>\n",
              "    <tr>\n",
              "      <th>878044</th>\n",
              "      <td>2003-01-06 00:15:00</td>\n",
              "      <td>ROBBERY</td>\n",
              "      <td>ROBBERY ON THE STREET WITH A GUN</td>\n",
              "      <td>Monday</td>\n",
              "      <td>TARAVAL</td>\n",
              "      <td>NONE</td>\n",
              "      <td>FARALLONES ST / CAPITOL AV</td>\n",
              "      <td>-122.459033</td>\n",
              "      <td>37.714056</td>\n",
              "    </tr>\n",
              "    <tr>\n",
              "      <th>878045</th>\n",
              "      <td>2003-01-06 00:01:00</td>\n",
              "      <td>LARCENY/THEFT</td>\n",
              "      <td>GRAND THEFT FROM LOCKED AUTO</td>\n",
              "      <td>Monday</td>\n",
              "      <td>INGLESIDE</td>\n",
              "      <td>NONE</td>\n",
              "      <td>600 Block of EDNA ST</td>\n",
              "      <td>-122.447364</td>\n",
              "      <td>37.731948</td>\n",
              "    </tr>\n",
              "    <tr>\n",
              "      <th>878046</th>\n",
              "      <td>2003-01-06 00:01:00</td>\n",
              "      <td>LARCENY/THEFT</td>\n",
              "      <td>GRAND THEFT FROM LOCKED AUTO</td>\n",
              "      <td>Monday</td>\n",
              "      <td>SOUTHERN</td>\n",
              "      <td>NONE</td>\n",
              "      <td>5TH ST / FOLSOM ST</td>\n",
              "      <td>-122.403390</td>\n",
              "      <td>37.780266</td>\n",
              "    </tr>\n",
              "    <tr>\n",
              "      <th>878047</th>\n",
              "      <td>2003-01-06 00:01:00</td>\n",
              "      <td>VANDALISM</td>\n",
              "      <td>MALICIOUS MISCHIEF, VANDALISM OF VEHICLES</td>\n",
              "      <td>Monday</td>\n",
              "      <td>SOUTHERN</td>\n",
              "      <td>NONE</td>\n",
              "      <td>TOWNSEND ST / 2ND ST</td>\n",
              "      <td>-122.390531</td>\n",
              "      <td>37.780607</td>\n",
              "    </tr>\n",
              "    <tr>\n",
              "      <th>878048</th>\n",
              "      <td>2003-01-06 00:01:00</td>\n",
              "      <td>FORGERY/COUNTERFEITING</td>\n",
              "      <td>CHECKS, FORGERY (FELONY)</td>\n",
              "      <td>Monday</td>\n",
              "      <td>BAYVIEW</td>\n",
              "      <td>NONE</td>\n",
              "      <td>1800 Block of NEWCOMB AV</td>\n",
              "      <td>-122.394926</td>\n",
              "      <td>37.738212</td>\n",
              "    </tr>\n",
              "  </tbody>\n",
              "</table>\n",
              "<p>878049 rows × 9 columns</p>\n",
              "</div>\n",
              "      <button class=\"colab-df-convert\" onclick=\"convertToInteractive('df-90b54c9d-9036-4e12-884b-0ab363395148')\"\n",
              "              title=\"Convert this dataframe to an interactive table.\"\n",
              "              style=\"display:none;\">\n",
              "        \n",
              "  <svg xmlns=\"http://www.w3.org/2000/svg\" height=\"24px\"viewBox=\"0 0 24 24\"\n",
              "       width=\"24px\">\n",
              "    <path d=\"M0 0h24v24H0V0z\" fill=\"none\"/>\n",
              "    <path d=\"M18.56 5.44l.94 2.06.94-2.06 2.06-.94-2.06-.94-.94-2.06-.94 2.06-2.06.94zm-11 1L8.5 8.5l.94-2.06 2.06-.94-2.06-.94L8.5 2.5l-.94 2.06-2.06.94zm10 10l.94 2.06.94-2.06 2.06-.94-2.06-.94-.94-2.06-.94 2.06-2.06.94z\"/><path d=\"M17.41 7.96l-1.37-1.37c-.4-.4-.92-.59-1.43-.59-.52 0-1.04.2-1.43.59L10.3 9.45l-7.72 7.72c-.78.78-.78 2.05 0 2.83L4 21.41c.39.39.9.59 1.41.59.51 0 1.02-.2 1.41-.59l7.78-7.78 2.81-2.81c.8-.78.8-2.07 0-2.86zM5.41 20L4 18.59l7.72-7.72 1.47 1.35L5.41 20z\"/>\n",
              "  </svg>\n",
              "      </button>\n",
              "      \n",
              "  <style>\n",
              "    .colab-df-container {\n",
              "      display:flex;\n",
              "      flex-wrap:wrap;\n",
              "      gap: 12px;\n",
              "    }\n",
              "\n",
              "    .colab-df-convert {\n",
              "      background-color: #E8F0FE;\n",
              "      border: none;\n",
              "      border-radius: 50%;\n",
              "      cursor: pointer;\n",
              "      display: none;\n",
              "      fill: #1967D2;\n",
              "      height: 32px;\n",
              "      padding: 0 0 0 0;\n",
              "      width: 32px;\n",
              "    }\n",
              "\n",
              "    .colab-df-convert:hover {\n",
              "      background-color: #E2EBFA;\n",
              "      box-shadow: 0px 1px 2px rgba(60, 64, 67, 0.3), 0px 1px 3px 1px rgba(60, 64, 67, 0.15);\n",
              "      fill: #174EA6;\n",
              "    }\n",
              "\n",
              "    [theme=dark] .colab-df-convert {\n",
              "      background-color: #3B4455;\n",
              "      fill: #D2E3FC;\n",
              "    }\n",
              "\n",
              "    [theme=dark] .colab-df-convert:hover {\n",
              "      background-color: #434B5C;\n",
              "      box-shadow: 0px 1px 3px 1px rgba(0, 0, 0, 0.15);\n",
              "      filter: drop-shadow(0px 1px 2px rgba(0, 0, 0, 0.3));\n",
              "      fill: #FFFFFF;\n",
              "    }\n",
              "  </style>\n",
              "\n",
              "      <script>\n",
              "        const buttonEl =\n",
              "          document.querySelector('#df-90b54c9d-9036-4e12-884b-0ab363395148 button.colab-df-convert');\n",
              "        buttonEl.style.display =\n",
              "          google.colab.kernel.accessAllowed ? 'block' : 'none';\n",
              "\n",
              "        async function convertToInteractive(key) {\n",
              "          const element = document.querySelector('#df-90b54c9d-9036-4e12-884b-0ab363395148');\n",
              "          const dataTable =\n",
              "            await google.colab.kernel.invokeFunction('convertToInteractive',\n",
              "                                                     [key], {});\n",
              "          if (!dataTable) return;\n",
              "\n",
              "          const docLinkHtml = 'Like what you see? Visit the ' +\n",
              "            '<a target=\"_blank\" href=https://colab.research.google.com/notebooks/data_table.ipynb>data table notebook</a>'\n",
              "            + ' to learn more about interactive tables.';\n",
              "          element.innerHTML = '';\n",
              "          dataTable['output_type'] = 'display_data';\n",
              "          await google.colab.output.renderOutput(dataTable, element);\n",
              "          const docLink = document.createElement('div');\n",
              "          docLink.innerHTML = docLinkHtml;\n",
              "          element.appendChild(docLink);\n",
              "        }\n",
              "      </script>\n",
              "    </div>\n",
              "  </div>\n",
              "  "
            ]
          },
          "metadata": {},
          "execution_count": 146
        }
      ]
    },
    {
      "cell_type": "code",
      "source": [
        "#### 06. Dates 필드의 데이터타입을 'datetime64' 타입으로 변경하기\n",
        "san.Dates = san.Dates.astype('datetime64')\n",
        "san.info() #  0   Dates       878049 non-null  datetime64[ns] -> checked"
      ],
      "metadata": {
        "colab": {
          "base_uri": "https://localhost:8080/"
        },
        "id": "eAxeQcGguYfK",
        "outputId": "5e1252f7-086e-402f-f1ce-27362afe0c01"
      },
      "execution_count": null,
      "outputs": [
        {
          "output_type": "stream",
          "name": "stdout",
          "text": [
            "<class 'pandas.core.frame.DataFrame'>\n",
            "RangeIndex: 878049 entries, 0 to 878048\n",
            "Data columns (total 9 columns):\n",
            " #   Column      Non-Null Count   Dtype         \n",
            "---  ------      --------------   -----         \n",
            " 0   Dates       878049 non-null  datetime64[ns]\n",
            " 1   Category    878049 non-null  object        \n",
            " 2   Descript    878049 non-null  object        \n",
            " 3   DayOfWeek   878049 non-null  object        \n",
            " 4   PdDistrict  878049 non-null  object        \n",
            " 5   Resolution  878049 non-null  object        \n",
            " 6   Address     878049 non-null  object        \n",
            " 7   X           878049 non-null  float64       \n",
            " 8   Y           878049 non-null  float64       \n",
            "dtypes: datetime64[ns](1), float64(2), object(6)\n",
            "memory usage: 60.3+ MB\n"
          ]
        }
      ]
    },
    {
      "cell_type": "code",
      "source": [
        "#### 07. 연, 월, 일, 요일, 시, 분값을 새로운 컬럼(year, month, day, dayofweek, hour, minute)을 생성해서 할당하기\n",
        "san['year'] = san.Dates.dt.year\n",
        "san['month'] = san.Dates.dt.month\n",
        "san['day'] = san.Dates.dt.day\n",
        "san['dayofweek'] = san.Dates.dt.dayofweek\n",
        "san['hour'] = san.Dates.dt.hour\n",
        "san['minute'] = san.Dates.dt.minute\n",
        "san.info()"
      ],
      "metadata": {
        "colab": {
          "base_uri": "https://localhost:8080/"
        },
        "id": "YW0r7EI8uhXo",
        "outputId": "8e61d2c7-d286-47c9-fdab-3b3165805a1a"
      },
      "execution_count": null,
      "outputs": [
        {
          "output_type": "stream",
          "name": "stdout",
          "text": [
            "<class 'pandas.core.frame.DataFrame'>\n",
            "RangeIndex: 878049 entries, 0 to 878048\n",
            "Data columns (total 15 columns):\n",
            " #   Column      Non-Null Count   Dtype         \n",
            "---  ------      --------------   -----         \n",
            " 0   Dates       878049 non-null  datetime64[ns]\n",
            " 1   Category    878049 non-null  object        \n",
            " 2   Descript    878049 non-null  object        \n",
            " 3   DayOfWeek   878049 non-null  object        \n",
            " 4   PdDistrict  878049 non-null  object        \n",
            " 5   Resolution  878049 non-null  object        \n",
            " 6   Address     878049 non-null  object        \n",
            " 7   X           878049 non-null  float64       \n",
            " 8   Y           878049 non-null  float64       \n",
            " 9   year        878049 non-null  int64         \n",
            " 10  month       878049 non-null  int64         \n",
            " 11  day         878049 non-null  int64         \n",
            " 12  dayofweek   878049 non-null  int64         \n",
            " 13  hour        878049 non-null  int64         \n",
            " 14  minute      878049 non-null  int64         \n",
            "dtypes: datetime64[ns](1), float64(2), int64(6), object(6)\n",
            "memory usage: 100.5+ MB\n"
          ]
        }
      ]
    },
    {
      "cell_type": "code",
      "source": [
        "#### 08. 범죄가 발생한 경도, 위도 값을 나타내는 X, Y 컬럼의 값을 더한 값을 담은 'X+Y' 컬럼, X, Y의 차이 값을 담은 'X-Y' 컬럼을 생성하기\n",
        "san['X+Y'] = san['X'] + san['Y']\n",
        "san['X-Y'] = san['X'] - san['Y']\n",
        "san.info()"
      ],
      "metadata": {
        "colab": {
          "base_uri": "https://localhost:8080/"
        },
        "outputId": "3788c3e5-ab16-40e9-c731-f18aeef86b58",
        "id": "WTDe8_G6uYne"
      },
      "execution_count": null,
      "outputs": [
        {
          "output_type": "stream",
          "name": "stdout",
          "text": [
            "<class 'pandas.core.frame.DataFrame'>\n",
            "RangeIndex: 878049 entries, 0 to 878048\n",
            "Data columns (total 17 columns):\n",
            " #   Column      Non-Null Count   Dtype         \n",
            "---  ------      --------------   -----         \n",
            " 0   Dates       878049 non-null  datetime64[ns]\n",
            " 1   Category    878049 non-null  object        \n",
            " 2   Descript    878049 non-null  object        \n",
            " 3   DayOfWeek   878049 non-null  object        \n",
            " 4   PdDistrict  878049 non-null  object        \n",
            " 5   Resolution  878049 non-null  object        \n",
            " 6   Address     878049 non-null  object        \n",
            " 7   X           878049 non-null  float64       \n",
            " 8   Y           878049 non-null  float64       \n",
            " 9   year        878049 non-null  int64         \n",
            " 10  month       878049 non-null  int64         \n",
            " 11  day         878049 non-null  int64         \n",
            " 12  dayofweek   878049 non-null  int64         \n",
            " 13  hour        878049 non-null  int64         \n",
            " 14  minute      878049 non-null  int64         \n",
            " 15  X+Y         878049 non-null  float64       \n",
            " 16  X-Y         878049 non-null  float64       \n",
            "dtypes: datetime64[ns](1), float64(4), int64(6), object(6)\n",
            "memory usage: 113.9+ MB\n"
          ]
        }
      ]
    },
    {
      "cell_type": "markdown",
      "source": [
        "#### 01. 월별 범죄율 시각화하기"
      ],
      "metadata": {
        "id": "HL6vzSHnlHnq"
      }
    },
    {
      "cell_type": "code",
      "source": [
        "plt.figure(figsize=(9,7))\n",
        "sns.barplot(x=san.groupby('month').size().index, y=san.groupby('month').size().values -62500)\n",
        "plt.show()"
      ],
      "metadata": {
        "colab": {
          "base_uri": "https://localhost:8080/",
          "height": 442
        },
        "id": "-reJoMfklHnr",
        "outputId": "f23923dd-a1cb-4d34-f488-49dfcde8b22d"
      },
      "execution_count": null,
      "outputs": [
        {
          "output_type": "display_data",
          "data": {
            "text/plain": [
              "<Figure size 648x504 with 1 Axes>"
            ],
            "image/png": "[encoded data removed]"
          },
          "metadata": {
            "needs_background": "light"
          }
        }
      ]
    },
    {
      "cell_type": "markdown",
      "source": [
        "#### 02. 연도별 범죄 횟수 시각화"
      ],
      "metadata": {
        "id": "ta1_TOfxlHxh"
      }
    },
    {
      "cell_type": "code",
      "source": [
        "plt.figure(figsize=(9,7))\n",
        "sns.barplot(x=san.groupby('year').size().index, y=san.groupby('year').size().values -40000)"
      ],
      "metadata": {
        "colab": {
          "base_uri": "https://localhost:8080/",
          "height": 460
        },
        "id": "PLz8YAtclHxi",
        "outputId": "f30ecd1c-8082-4d87-dd94-bfbdcd3c4713"
      },
      "execution_count": null,
      "outputs": [
        {
          "output_type": "execute_result",
          "data": {
            "text/plain": [
              "<matplotlib.axes._subplots.AxesSubplot at 0x7fce01bac550>"
            ]
          },
          "metadata": {},
          "execution_count": 111
        },
        {
          "output_type": "display_data",
          "data": {
            "text/plain": [
              "<Figure size 648x504 with 1 Axes>"
            ],
            "image/png": "[encoded data removed]"
          },
          "metadata": {
            "needs_background": "light"
          }
        }
      ]
    },
    {
      "cell_type": "code",
      "source": [
        "plt.figure(figsize=(9,7))\n",
        "sns.barplot(x=san.groupby('year').size().index, y=san.groupby('year').size().values -20000)"
      ],
      "metadata": {
        "colab": {
          "base_uri": "https://localhost:8080/",
          "height": 460
        },
        "id": "y1wje2toqKCs",
        "outputId": "87ccf1b0-5375-4c90-d51f-1b8ad2539afe"
      },
      "execution_count": null,
      "outputs": [
        {
          "output_type": "execute_result",
          "data": {
            "text/plain": [
              "<matplotlib.axes._subplots.AxesSubplot at 0x7fce018dbe90>"
            ]
          },
          "metadata": {},
          "execution_count": 113
        },
        {
          "output_type": "display_data",
          "data": {
            "text/plain": [
              "<Figure size 648x504 with 1 Axes>"
            ],
            "image/png": "[encoded data removed]"
          },
          "metadata": {
            "needs_background": "light"
          }
        }
      ]
    },
    {
      "cell_type": "markdown",
      "source": [
        "#### 03. 일별 범죄 횟수 시각화"
      ],
      "metadata": {
        "id": "KBU3MXxylIc8"
      }
    },
    {
      "cell_type": "code",
      "source": [
        "plt.figure(figsize=(10,8))\n",
        "sns.barplot(x=san.groupby(by='day').size().index, y=san.groupby(by='day').size().values)"
      ],
      "metadata": {
        "colab": {
          "base_uri": "https://localhost:8080/",
          "height": 515
        },
        "id": "4cEEBLfilIc9",
        "outputId": "3c7029f5-32f3-4ae1-fa07-6f4874588482"
      },
      "execution_count": null,
      "outputs": [
        {
          "output_type": "execute_result",
          "data": {
            "text/plain": [
              "<matplotlib.axes._subplots.AxesSubplot at 0x7fce012501d0>"
            ]
          },
          "metadata": {},
          "execution_count": 129
        },
        {
          "output_type": "display_data",
          "data": {
            "text/plain": [
              "<Figure size 720x576 with 1 Axes>"
            ],
            "image/png": "[encoded data removed]"
          },
          "metadata": {
            "needs_background": "light"
          }
        }
      ]
    },
    {
      "cell_type": "markdown",
      "source": [
        "#### 04. 요일별 범죄 횟수 시각화"
      ],
      "metadata": {
        "id": "wZr3RxNWlIk9"
      }
    },
    {
      "cell_type": "code",
      "source": [
        "sns.barplot(x=san.groupby('dayofweek').size().index, y=san.groupby('dayofweek').size().values - 110000)\n",
        "plt.show()"
      ],
      "metadata": {
        "colab": {
          "base_uri": "https://localhost:8080/",
          "height": 279
        },
        "id": "Q2W1VVHclIk-",
        "outputId": "764d0aca-07d0-48c6-a124-9f063664e248"
      },
      "execution_count": null,
      "outputs": [
        {
          "output_type": "display_data",
          "data": {
            "text/plain": [
              "<Figure size 432x288 with 1 Axes>"
            ],
            "image/png": "[encoded data removed]"
          },
          "metadata": {
            "needs_background": "light"
          }
        }
      ]
    },
    {
      "cell_type": "code",
      "source": [
        "sns.barplot(x=san.groupby('dayofweek').size().index, y=san.groupby('dayofweek').size().values)\n",
        "plt.show()"
      ],
      "metadata": {
        "colab": {
          "base_uri": "https://localhost:8080/",
          "height": 283
        },
        "id": "pvj39XhMtJue",
        "outputId": "3a259460-8443-450e-ce39-0f33d0741baa"
      },
      "execution_count": null,
      "outputs": [
        {
          "output_type": "display_data",
          "data": {
            "text/plain": [
              "<Figure size 432x288 with 1 Axes>"
            ],
            "image/png": "[encoded data removed]"
          },
          "metadata": {
            "needs_background": "light"
          }
        }
      ]
    },
    {
      "cell_type": "markdown",
      "source": [
        "#### 05. 카테고리별 범죄 횟수 시각화"
      ],
      "metadata": {
        "id": "tEyuZf-qlI2e"
      }
    },
    {
      "cell_type": "code",
      "source": [
        "plt.subplots(figsize = (20,12))\n",
        "sns.barplot(x=san.groupby('Category').size().index, y=san.groupby('Category').size().values)\n",
        "plt.xticks(rotation=70)"
      ],
      "metadata": {
        "colab": {
          "base_uri": "https://localhost:8080/",
          "height": 780
        },
        "id": "-Hecr_XplI2e",
        "outputId": "b17388c1-b96e-4c4f-a395-0a28d7b3e29a"
      },
      "execution_count": null,
      "outputs": [
        {
          "output_type": "execute_result",
          "data": {
            "text/plain": [
              "(array([ 0,  1,  2,  3,  4,  5,  6,  7,  8,  9, 10, 11, 12, 13, 14, 15, 16,\n",
              "        17, 18, 19, 20, 21, 22, 23, 24, 25, 26, 27, 28, 29, 30, 31, 32, 33,\n",
              "        34, 35, 36, 37, 38]), <a list of 39 Text major ticklabel objects>)"
            ]
          },
          "metadata": {},
          "execution_count": 153
        },
        {
          "output_type": "display_data",
          "data": {
            "text/plain": [
              "<Figure size 1440x864 with 1 Axes>"
            ],
            "image/png": "[encoded data removed]"
          },
          "metadata": {
            "needs_background": "light"
          }
        }
      ]
    },
    {
      "cell_type": "code",
      "source": [
        "plt.subplots(figsize = (20,12))\n",
        "sns.barplot(x=san['Category'].sort_values().value_counts().index, y=san['Category'].sort_values().value_counts().values)\n",
        "plt.xticks(rotation=70)\n",
        "plt.show()"
      ],
      "metadata": {
        "colab": {
          "base_uri": "https://localhost:8080/",
          "height": 716
        },
        "id": "VEZS1E-_vmR2",
        "outputId": "b470e237-7967-490e-df3e-b6f7f0bb6532"
      },
      "execution_count": null,
      "outputs": [
        {
          "output_type": "display_data",
          "data": {
            "text/plain": [
              "<Figure size 1440x864 with 1 Axes>"
            ],
            "image/png": "[encoded data removed]"
          },
          "metadata": {
            "needs_background": "light"
          }
        }
      ]
    },
    {
      "cell_type": "markdown",
      "source": [
        "### 개인적 추가 및 공부"
      ],
      "metadata": {
        "id": "1r6gBgzIx5x7"
      }
    },
    {
      "cell_type": "code",
      "source": [
        "san.info()"
      ],
      "metadata": {
        "colab": {
          "base_uri": "https://localhost:8080/"
        },
        "id": "1wcPE7GNx_0s",
        "outputId": "7acb3211-2eda-4bb9-c352-3bb00654637c"
      },
      "execution_count": null,
      "outputs": [
        {
          "output_type": "stream",
          "name": "stdout",
          "text": [
            "<class 'pandas.core.frame.DataFrame'>\n",
            "RangeIndex: 878049 entries, 0 to 878048\n",
            "Data columns (total 17 columns):\n",
            " #   Column      Non-Null Count   Dtype         \n",
            "---  ------      --------------   -----         \n",
            " 0   Dates       878049 non-null  datetime64[ns]\n",
            " 1   Category    878049 non-null  object        \n",
            " 2   Descript    878049 non-null  object        \n",
            " 3   DayOfWeek   878049 non-null  object        \n",
            " 4   PdDistrict  878049 non-null  object        \n",
            " 5   Resolution  878049 non-null  object        \n",
            " 6   Address     878049 non-null  object        \n",
            " 7   X           878049 non-null  float64       \n",
            " 8   Y           878049 non-null  float64       \n",
            " 9   year        878049 non-null  int64         \n",
            " 10  month       878049 non-null  int64         \n",
            " 11  day         878049 non-null  int64         \n",
            " 12  dayofweek   878049 non-null  int64         \n",
            " 13  hour        878049 non-null  int64         \n",
            " 14  minute      878049 non-null  int64         \n",
            " 15  X+Y         878049 non-null  float64       \n",
            " 16  X-Y         878049 non-null  float64       \n",
            "dtypes: datetime64[ns](1), float64(4), int64(6), object(6)\n",
            "memory usage: 113.9+ MB\n"
          ]
        }
      ]
    },
    {
      "cell_type": "markdown",
      "source": [
        "#### 주소 관련 확인"
      ],
      "metadata": {
        "id": "DSv-RWBUlJJU"
      }
    },
    {
      "cell_type": "code",
      "source": [
        "#import regular expresion\n",
        "import re"
      ],
      "metadata": {
        "id": "MZG3P9Fjya92"
      },
      "execution_count": null,
      "outputs": []
    },
    {
      "cell_type": "code",
      "source": [
        "san.info()"
      ],
      "metadata": {
        "colab": {
          "base_uri": "https://localhost:8080/"
        },
        "id": "v_u0ecoGzOz-",
        "outputId": "63acb5a2-3660-45e0-c0cc-063efd95a974"
      },
      "execution_count": null,
      "outputs": [
        {
          "output_type": "stream",
          "name": "stdout",
          "text": [
            "<class 'pandas.core.frame.DataFrame'>\n",
            "RangeIndex: 878049 entries, 0 to 878048\n",
            "Data columns (total 17 columns):\n",
            " #   Column      Non-Null Count   Dtype         \n",
            "---  ------      --------------   -----         \n",
            " 0   Dates       878049 non-null  datetime64[ns]\n",
            " 1   Category    878049 non-null  object        \n",
            " 2   Descript    878049 non-null  object        \n",
            " 3   DayOfWeek   878049 non-null  object        \n",
            " 4   PdDistrict  878049 non-null  object        \n",
            " 5   Resolution  878049 non-null  object        \n",
            " 6   Address     878049 non-null  object        \n",
            " 7   X           878049 non-null  float64       \n",
            " 8   Y           878049 non-null  float64       \n",
            " 9   year        878049 non-null  int64         \n",
            " 10  month       878049 non-null  int64         \n",
            " 11  day         878049 non-null  int64         \n",
            " 12  dayofweek   878049 non-null  int64         \n",
            " 13  hour        878049 non-null  int64         \n",
            " 14  minute      878049 non-null  int64         \n",
            " 15  X+Y         878049 non-null  float64       \n",
            " 16  X-Y         878049 non-null  float64       \n",
            "dtypes: datetime64[ns](1), float64(4), int64(6), object(6)\n",
            "memory usage: 113.9+ MB\n"
          ]
        }
      ]
    },
    {
      "cell_type": "code",
      "source": [
        "# 6   Address     878049 non-null  object \n",
        "# crossed address \n",
        "crossAdd = san['Address'].str.contains(r'\\/')\n",
        "print(crossAdd.sum()) # 260818\n",
        "# single address, include 'Block of'\n",
        "singleAdd = san['Address'].str.contains(r'[B][l][o][c][k] [o][f]')\n",
        "print(singleAdd.sum()) # 617231\n",
        "print(617231 + 260818)"
      ],
      "metadata": {
        "colab": {
          "base_uri": "https://localhost:8080/"
        },
        "id": "rb-slwL2lJJV",
        "outputId": "cf71c3ac-f8e2-4aad-818a-a2944c5a79a0"
      },
      "execution_count": null,
      "outputs": [
        {
          "output_type": "stream",
          "name": "stdout",
          "text": [
            "260818\n",
            "617231\n",
            "878049\n"
          ]
        }
      ]
    },
    {
      "cell_type": "markdown",
      "source": [
        "#### "
      ],
      "metadata": {
        "id": "6k1nNzoVlJNM"
      }
    },
    {
      "cell_type": "code",
      "source": [
        ""
      ],
      "metadata": {
        "id": "c6R4qBx2lJNM"
      },
      "execution_count": null,
      "outputs": []
    },
    {
      "cell_type": "markdown",
      "source": [
        "#### "
      ],
      "metadata": {
        "id": "oudWI3H_lJQW"
      }
    },
    {
      "cell_type": "code",
      "source": [
        ""
      ],
      "metadata": {
        "id": "Olsol7trlJQW"
      },
      "execution_count": null,
      "outputs": []
    },
    {
      "cell_type": "markdown",
      "source": [
        "#### "
      ],
      "metadata": {
        "id": "gs8-O7jzlJTK"
      }
    },
    {
      "cell_type": "code",
      "source": [
        ""
      ],
      "metadata": {
        "id": "NZpbu0CTlJTK"
      },
      "execution_count": null,
      "outputs": []
    }
  ]
}